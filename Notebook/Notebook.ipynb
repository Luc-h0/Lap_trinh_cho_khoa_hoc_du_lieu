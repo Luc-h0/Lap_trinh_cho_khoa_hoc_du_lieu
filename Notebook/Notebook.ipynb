{
 "cells": [
  {
   "cell_type": "markdown",
   "id": "0e0c773f-c109-47f7-b2f4-d7b55ecbd429",
   "metadata": {},
   "source": [
    "<div style=\"text-align: center; background-color: #559cff; font-family: 'Trebuchet MS', Arial, sans-serif; color: white; padding: 20px; font-size: 40px; font-weight: bold; border-radius: 0 0 0 0; box-shadow: 0px 6px 8px rgba(0, 0, 0, 0.2);\">\n",
    " Final Project -Programming for  Data Science @ FIT-HCMUS, VNU-HCM 📌\n",
    "</div>"
   ]
  },
  {
   "cell_type": "markdown",
   "id": "1bf7271e-7d34-4df5-9186-ccf4183543f9",
   "metadata": {},
   "source": [
    "<div style=\"text-align: center; font-family: 'Trebuchet MS', Arial, sans-serif; padding: 20px; font-size: 25px; font-weight: bold; border-radius: 0 0 0 0\">\n",
    "  TOPIC: ANALYSIS ON GOOGLE PLAY STORE APP\n",
    "</div>"
   ]
  },
  {
   "cell_type": "markdown",
   "id": "14fc5a42-44c7-4049-9826-509c4ae04702",
   "metadata": {},
   "source": [
    "STUDENT INFORMATION:\n",
    "- 21127038 - Võ Phú Hãn\n",
    "- 21127351 - Hồ Đinh Duy Lực\n"
   ]
  },
  {
   "cell_type": "markdown",
   "id": "72f54b63-2f8c-4f88-ada5-6237fd275d24",
   "metadata": {},
   "source": [
    "OVERVIEW OF THE TOPIC:\n",
    "- Reason forchoosing topic:\n"
   ]
  },
  {
   "cell_type": "markdown",
   "id": "0db6e400-421b-48ac-8566-d0f600d5bc27",
   "metadata": {},
   "source": [
    "DATASET INFORMATION:\n",
    "- Source:\n",
    "- License: "
   ]
  },
  {
   "cell_type": "markdown",
   "id": "6c4ee3da-d66c-4688-a361-83f02335da82",
   "metadata": {},
   "source": [
    "# Data Exploration - Preprocessing\n"
   ]
  },
  {
   "cell_type": "markdown",
   "id": "45f57dc9-ac49-4ad5-a730-6bc686ba69ea",
   "metadata": {},
   "source": [
    "## Import Library\n"
   ]
  },
  {
   "cell_type": "code",
   "execution_count": 1,
   "id": "f469d4cb-7e65-4e0a-8972-9ba49284bdd7",
   "metadata": {},
   "outputs": [],
   "source": [
    "import os\n",
    "import sys\n",
    "\n",
    "module_path = os.path.abspath(os.path.join('..'))\n",
    "if module_path not in sys.path:\n",
    "    sys.path.append(module_path)\n",
    "    \n",
    "import pandas as pd\n",
    "import numpy as np\n",
    "\n",
    "# with pd.option_context('display.max_rows', None, 'display.max_columns', None):"
   ]
  },
  {
   "cell_type": "markdown",
   "id": "56f20562-3d07-43ab-afe1-fcb7575727b6",
   "metadata": {},
   "source": [
    "## Exploring data"
   ]
  },
  {
   "cell_type": "markdown",
   "id": "18b0db2c-7ad0-418f-aa7a-dba8d30afddf",
   "metadata": {},
   "source": [
    "### Read raw data from file"
   ]
  },
  {
   "cell_type": "code",
   "execution_count": 2,
   "id": "bfaa9b8e-cc4a-45bc-bf7a-37023acb3611",
   "metadata": {},
   "outputs": [],
   "source": [
    "apps_df = pd.read_csv(\"../Data/Raw/googleplaystore.csv\")"
   ]
  },
  {
   "cell_type": "markdown",
   "id": "03fd2486",
   "metadata": {},
   "source": [
    "### How many rows and how many columns?"
   ]
  },
  {
   "cell_type": "code",
   "execution_count": 3,
   "id": "e65f88e7-6acc-40f8-8c2a-e194657823c2",
   "metadata": {},
   "outputs": [
    {
     "name": "stdout",
     "output_type": "stream",
     "text": [
      "Number of rows: 10840\n",
      "Number of columns: 13\n"
     ]
    }
   ],
   "source": [
    "# Shape of dateset\n",
    "shape = apps_df.shape\n",
    "print(f'Number of rows: {shape[0]}')\n",
    "print(f'Number of columns: {shape[1]}')"
   ]
  },
  {
   "cell_type": "markdown",
   "id": "b99305e0",
   "metadata": {},
   "source": [
    "### What is the meaning of each row?"
   ]
  },
  {
   "cell_type": "code",
   "execution_count": 4,
   "id": "5e39c087",
   "metadata": {},
   "outputs": [
    {
     "data": {
      "text/html": [
       "<div>\n",
       "<style scoped>\n",
       "    .dataframe tbody tr th:only-of-type {\n",
       "        vertical-align: middle;\n",
       "    }\n",
       "\n",
       "    .dataframe tbody tr th {\n",
       "        vertical-align: top;\n",
       "    }\n",
       "\n",
       "    .dataframe thead th {\n",
       "        text-align: right;\n",
       "    }\n",
       "</style>\n",
       "<table border=\"1\" class=\"dataframe\">\n",
       "  <thead>\n",
       "    <tr style=\"text-align: right;\">\n",
       "      <th></th>\n",
       "      <th>App</th>\n",
       "      <th>Category</th>\n",
       "      <th>Rating</th>\n",
       "      <th>Reviews</th>\n",
       "      <th>Size</th>\n",
       "      <th>Installs</th>\n",
       "      <th>Type</th>\n",
       "      <th>Price</th>\n",
       "      <th>Content Rating</th>\n",
       "      <th>Genres</th>\n",
       "      <th>Last Updated</th>\n",
       "      <th>Current Ver</th>\n",
       "      <th>Android Ver</th>\n",
       "    </tr>\n",
       "  </thead>\n",
       "  <tbody>\n",
       "    <tr>\n",
       "      <th>0</th>\n",
       "      <td>Photo Editor &amp; Candy Camera &amp; Grid &amp; ScrapBook</td>\n",
       "      <td>ART_AND_DESIGN</td>\n",
       "      <td>4.1</td>\n",
       "      <td>159</td>\n",
       "      <td>19M</td>\n",
       "      <td>10,000+</td>\n",
       "      <td>Free</td>\n",
       "      <td>0</td>\n",
       "      <td>Everyone</td>\n",
       "      <td>Art &amp; Design</td>\n",
       "      <td>7-Jan-18</td>\n",
       "      <td>1.0.0</td>\n",
       "      <td>4.0.3 and up</td>\n",
       "    </tr>\n",
       "    <tr>\n",
       "      <th>1</th>\n",
       "      <td>Coloring book moana</td>\n",
       "      <td>ART_AND_DESIGN</td>\n",
       "      <td>3.9</td>\n",
       "      <td>967</td>\n",
       "      <td>14M</td>\n",
       "      <td>500,000+</td>\n",
       "      <td>Free</td>\n",
       "      <td>0</td>\n",
       "      <td>Everyone</td>\n",
       "      <td>Art &amp; Design;Pretend Play</td>\n",
       "      <td>15-Jan-18</td>\n",
       "      <td>2.0.0</td>\n",
       "      <td>4.0.3 and up</td>\n",
       "    </tr>\n",
       "    <tr>\n",
       "      <th>2</th>\n",
       "      <td>U Launcher Lite – FREE Live Cool Themes, Hide ...</td>\n",
       "      <td>ART_AND_DESIGN</td>\n",
       "      <td>4.7</td>\n",
       "      <td>87510</td>\n",
       "      <td>8.7M</td>\n",
       "      <td>5,000,000+</td>\n",
       "      <td>Free</td>\n",
       "      <td>0</td>\n",
       "      <td>Everyone</td>\n",
       "      <td>Art &amp; Design</td>\n",
       "      <td>1-Aug-18</td>\n",
       "      <td>1.2.4</td>\n",
       "      <td>4.0.3 and up</td>\n",
       "    </tr>\n",
       "    <tr>\n",
       "      <th>3</th>\n",
       "      <td>Sketch - Draw &amp; Paint</td>\n",
       "      <td>ART_AND_DESIGN</td>\n",
       "      <td>4.5</td>\n",
       "      <td>215644</td>\n",
       "      <td>25M</td>\n",
       "      <td>50,000,000+</td>\n",
       "      <td>Free</td>\n",
       "      <td>0</td>\n",
       "      <td>Teen</td>\n",
       "      <td>Art &amp; Design</td>\n",
       "      <td>8-Jun-18</td>\n",
       "      <td>Varies with device</td>\n",
       "      <td>4.2 and up</td>\n",
       "    </tr>\n",
       "    <tr>\n",
       "      <th>4</th>\n",
       "      <td>Pixel Draw - Number Art Coloring Book</td>\n",
       "      <td>ART_AND_DESIGN</td>\n",
       "      <td>4.3</td>\n",
       "      <td>967</td>\n",
       "      <td>2.8M</td>\n",
       "      <td>100,000+</td>\n",
       "      <td>Free</td>\n",
       "      <td>0</td>\n",
       "      <td>Everyone</td>\n",
       "      <td>Art &amp; Design;Creativity</td>\n",
       "      <td>20-Jun-18</td>\n",
       "      <td>1.1</td>\n",
       "      <td>4.4 and up</td>\n",
       "    </tr>\n",
       "  </tbody>\n",
       "</table>\n",
       "</div>"
      ],
      "text/plain": [
       "                                                 App        Category  Rating  \\\n",
       "0     Photo Editor & Candy Camera & Grid & ScrapBook  ART_AND_DESIGN     4.1   \n",
       "1                                Coloring book moana  ART_AND_DESIGN     3.9   \n",
       "2  U Launcher Lite – FREE Live Cool Themes, Hide ...  ART_AND_DESIGN     4.7   \n",
       "3                              Sketch - Draw & Paint  ART_AND_DESIGN     4.5   \n",
       "4              Pixel Draw - Number Art Coloring Book  ART_AND_DESIGN     4.3   \n",
       "\n",
       "   Reviews  Size     Installs  Type Price Content Rating  \\\n",
       "0      159   19M      10,000+  Free     0       Everyone   \n",
       "1      967   14M     500,000+  Free     0       Everyone   \n",
       "2    87510  8.7M   5,000,000+  Free     0       Everyone   \n",
       "3   215644   25M  50,000,000+  Free     0           Teen   \n",
       "4      967  2.8M     100,000+  Free     0       Everyone   \n",
       "\n",
       "                      Genres Last Updated         Current Ver   Android Ver  \n",
       "0               Art & Design     7-Jan-18               1.0.0  4.0.3 and up  \n",
       "1  Art & Design;Pretend Play    15-Jan-18               2.0.0  4.0.3 and up  \n",
       "2               Art & Design     1-Aug-18               1.2.4  4.0.3 and up  \n",
       "3               Art & Design     8-Jun-18  Varies with device    4.2 and up  \n",
       "4    Art & Design;Creativity    20-Jun-18                 1.1    4.4 and up  "
      ]
     },
     "execution_count": 4,
     "metadata": {},
     "output_type": "execute_result"
    }
   ],
   "source": [
    "apps_df.head(5)"
   ]
  },
  {
   "cell_type": "markdown",
   "id": "d3d6495c",
   "metadata": {},
   "source": [
    "Each row contains information of an application on Google Play Store."
   ]
  },
  {
   "cell_type": "markdown",
   "id": "3b194640",
   "metadata": {},
   "source": [
    "### Are there duplicated rows?"
   ]
  },
  {
   "cell_type": "code",
   "execution_count": 5,
   "id": "c5a1ff79",
   "metadata": {},
   "outputs": [
    {
     "name": "stdout",
     "output_type": "stream",
     "text": [
      "The data have 1181 duplicated rows\n"
     ]
    }
   ],
   "source": [
    "app = apps_df['App']\n",
    "detectDupSeries = app.duplicated(keep='first')\n",
    "# detectDupSeries = apps_df.duplicated(keep='first')\n",
    "num_duplicated_rows = detectDupSeries.sum()\n",
    "print(f'The data have {num_duplicated_rows} duplicated rows')"
   ]
  },
  {
   "cell_type": "markdown",
   "id": "e706963a",
   "metadata": {},
   "source": [
    "So we're going to drop duplicated rows."
   ]
  },
  {
   "cell_type": "code",
   "execution_count": 6,
   "id": "d01ea2b8",
   "metadata": {},
   "outputs": [
    {
     "data": {
      "text/plain": [
       "(9659, 13)"
      ]
     },
     "execution_count": 6,
     "metadata": {},
     "output_type": "execute_result"
    }
   ],
   "source": [
    "apps_df.drop_duplicates(subset='App', keep='first', inplace=True)\n",
    "# apps_df.drop_duplicates(keep='first', inplace=True)\n",
    "apps_df.shape"
   ]
  },
  {
   "cell_type": "markdown",
   "id": "5dee4f0b",
   "metadata": {},
   "source": [
    "### What is the meaning of each column?"
   ]
  },
  {
   "cell_type": "markdown",
   "id": "308d9488",
   "metadata": {},
   "source": [
    "**Apps dataset columns descriptions:**\n",
    "\n",
    "This file contains all the details of the apps on Google Play. There are 13 features that describe a given app.\n",
    "\n",
    "- **App**: Name of the app\n",
    "- **Category**: Category of the app. Some examples are: ART_AND_DESIGN, FINANCE, COMICS, BEAUTY etc.\n",
    "- **Rating**: The current average rating (out of 5) of the app on Google Play.\n",
    "- **Reviews**: Number of user reviews given on the app.\n",
    "- **Size**: Size of the app in MB (megabytes).\n",
    "- **Installs**: Number of times the app was downloaded from Google Play\n",
    "- **Type**: Whether the app is paid or free.\n",
    "- **Price**: Price of the app in US$\n",
    "- **Last Updated**: Date on which the app was last updated on Google Play\n",
    "- **Content Rating**: Subject the app aim to.\n",
    "- **Genres**: Type of the application.\n",
    "- **Current Ver**: Newest version that has been released by the publisher.\n",
    "- **Android Ver**: The cofiguration that devices need in order to work properly.rk properly.roperly.yd or fr Google Play"
   ]
  },
  {
   "cell_type": "markdown",
   "id": "f56ac4ec-13bc-4d99-9271-0d2a271b37e5",
   "metadata": {},
   "source": [
    "###  What is the current data type of each column? Are there columns having inappropriate data types?"
   ]
  },
  {
   "cell_type": "code",
   "execution_count": 7,
   "id": "6f319526",
   "metadata": {},
   "outputs": [
    {
     "data": {
      "text/plain": [
       "App                object\n",
       "Category           object\n",
       "Rating            float64\n",
       "Reviews             int64\n",
       "Size               object\n",
       "Installs           object\n",
       "Type               object\n",
       "Price              object\n",
       "Content Rating     object\n",
       "Genres             object\n",
       "Last Updated       object\n",
       "Current Ver        object\n",
       "Android Ver        object\n",
       "dtype: object"
      ]
     },
     "execution_count": 7,
     "metadata": {},
     "output_type": "execute_result"
    }
   ],
   "source": [
    "apps_df.dtypes"
   ]
  },
  {
   "cell_type": "markdown",
   "id": "00bb7ac7",
   "metadata": {},
   "source": [
    "We observe that `Installs`, `Price`, `Size` should have *numeric* datatype and `Last Updated` should has *datetime* datatype."
   ]
  },
  {
   "cell_type": "markdown",
   "id": "5a162e7d",
   "metadata": {},
   "source": [
    "`Installs` feature also should has numeric datatype. First, we will remove non-digit charater in this columns, then, convert them to numeric."
   ]
  },
  {
   "cell_type": "code",
   "execution_count": 8,
   "id": "9ea49647",
   "metadata": {},
   "outputs": [],
   "source": [
    "apps_df['Installs'] = apps_df['Installs'].str.replace(r'\\D', '', regex=True)\n",
    "apps_df['Installs'] = pd.to_numeric(apps_df['Installs'], errors='raise')"
   ]
  },
  {
   "cell_type": "markdown",
   "id": "999257b2",
   "metadata": {},
   "source": [
    "In `Price` column, first, we'll find out what make them be non-numeric."
   ]
  },
  {
   "cell_type": "code",
   "execution_count": 9,
   "id": "3356af44",
   "metadata": {},
   "outputs": [
    {
     "data": {
      "text/plain": [
       "234       $4.99 \n",
       "235       $4.99 \n",
       "427       $3.99 \n",
       "476       $3.99 \n",
       "477       $6.99 \n",
       "          ...   \n",
       "10734     $0.99 \n",
       "10759     $7.99 \n",
       "10781    $16.99 \n",
       "10784     $1.20 \n",
       "10797     $1.04 \n",
       "Name: Price, Length: 756, dtype: object"
      ]
     },
     "execution_count": 9,
     "metadata": {},
     "output_type": "execute_result"
    }
   ],
   "source": [
    "price_series = apps_df['Price']\n",
    "strange_data = price_series[~price_series.str.isnumeric()]\n",
    "strange_data"
   ]
  },
  {
   "cell_type": "markdown",
   "id": "0a38012f",
   "metadata": {},
   "source": [
    "At first, we predict that the '$' at the head makes them being strings. Eliminating this character does not affecting our dataset, so we should remove them. However, to be more carefully, we would check whether there are any non-number characters in this column. "
   ]
  },
  {
   "cell_type": "code",
   "execution_count": 10,
   "id": "cf2fe18a",
   "metadata": {},
   "outputs": [
    {
     "data": {
      "text/plain": [
       "Series([], Name: Price, dtype: object)"
      ]
     },
     "execution_count": 10,
     "metadata": {},
     "output_type": "execute_result"
    }
   ],
   "source": [
    "strange_data[~strange_data.str.contains(r'\\$')]"
   ]
  },
  {
   "cell_type": "markdown",
   "id": "e360fbe5",
   "metadata": {},
   "source": [
    "Now, we see all problems that make the column \"non-numeric\". We'll handle them."
   ]
  },
  {
   "cell_type": "code",
   "execution_count": 11,
   "id": "a31735de",
   "metadata": {},
   "outputs": [],
   "source": [
    "apps_df['Price'] = apps_df['Price'].str.replace(r'\\$', '', regex=True)\n",
    "apps_df['Price'] = pd.to_numeric(apps_df['Price'], errors='raise')"
   ]
  },
  {
   "cell_type": "markdown",
   "id": "64780b05",
   "metadata": {},
   "source": [
    "Now, we would convert `Last Updated` to *datetime*."
   ]
  },
  {
   "cell_type": "code",
   "execution_count": 12,
   "id": "39d76d85",
   "metadata": {},
   "outputs": [],
   "source": [
    "apps_df['Last Updated'] = pd.to_datetime(apps_df['Last Updated'], format=\"%d-%b-%y\", errors='raise')"
   ]
  },
  {
   "cell_type": "markdown",
   "id": "fecf8e6f",
   "metadata": {},
   "source": [
    "To pre-process `Size`, we would split the size number and their unit to new column. Then, we would scale them in to the same unit (M) because some apps have size value in 'k' instead of 'M'"
   ]
  },
  {
   "cell_type": "code",
   "execution_count": 13,
   "id": "b3a7849a",
   "metadata": {},
   "outputs": [],
   "source": [
    "def SizeUnit(str): # return the unit of size\n",
    "    if str[-1] == 'M':\n",
    "        return 'M'\n",
    "    elif str[-1] == 'k':\n",
    "        return 'k'\n",
    "    elif str == 'Varies with device':\n",
    "        return 'Varies with device'\n",
    "\n",
    "# create new column to store size unit\n",
    "apps_df['Size Unit'] = apps_df['Size'].apply(lambda x: SizeUnit(x))\n",
    "# remove unit attached to size\n",
    "apps_df['Size'] = apps_df['Size'].apply(lambda x: x[:-1])\n",
    "# replace unclear size by np.nan\n",
    "apps_df['Size'] = apps_df['Size'].replace('Varies with devic', np.nan)\n",
    "\n",
    "# change all value to the same scale\n",
    "apps_df['Size'] = pd.to_numeric(apps_df['Size'], errors='raise')\n",
    "apps_df['Size'] = np.where(apps_df['Size Unit'] == 'k', apps_df['Size']/1024, apps_df['Size'])\n",
    "\n",
    "# drop 'Size Unit' because it is no longer neccessary\n",
    "apps_df.drop(columns='Size Unit', inplace=True)"
   ]
  },
  {
   "cell_type": "markdown",
   "id": "77eedb67",
   "metadata": {},
   "source": [
    "Double check on data type."
   ]
  },
  {
   "cell_type": "code",
   "execution_count": 14,
   "id": "648900c2",
   "metadata": {},
   "outputs": [
    {
     "data": {
      "text/plain": [
       "App                       object\n",
       "Category                  object\n",
       "Rating                   float64\n",
       "Reviews                    int64\n",
       "Size                     float64\n",
       "Installs                   int64\n",
       "Type                      object\n",
       "Price                    float64\n",
       "Content Rating            object\n",
       "Genres                    object\n",
       "Last Updated      datetime64[ns]\n",
       "Current Ver               object\n",
       "Android Ver               object\n",
       "dtype: object"
      ]
     },
     "execution_count": 14,
     "metadata": {},
     "output_type": "execute_result"
    }
   ],
   "source": [
    "apps_df.dtypes"
   ]
  },
  {
   "cell_type": "markdown",
   "id": "47de6f5e",
   "metadata": {},
   "source": [
    "Now, they seem appropriate for analysing!!!"
   ]
  },
  {
   "cell_type": "markdown",
   "id": "e4760f85",
   "metadata": {},
   "source": [
    "### With each numerical column, how are values distributed?"
   ]
  },
  {
   "cell_type": "code",
   "execution_count": 15,
   "id": "c2f54ddf",
   "metadata": {},
   "outputs": [
    {
     "data": {
      "text/html": [
       "<div>\n",
       "<style scoped>\n",
       "    .dataframe tbody tr th:only-of-type {\n",
       "        vertical-align: middle;\n",
       "    }\n",
       "\n",
       "    .dataframe tbody tr th {\n",
       "        vertical-align: top;\n",
       "    }\n",
       "\n",
       "    .dataframe thead th {\n",
       "        text-align: right;\n",
       "    }\n",
       "</style>\n",
       "<table border=\"1\" class=\"dataframe\">\n",
       "  <thead>\n",
       "    <tr style=\"text-align: right;\">\n",
       "      <th></th>\n",
       "      <th>Rating</th>\n",
       "      <th>Reviews</th>\n",
       "      <th>Size</th>\n",
       "      <th>Installs</th>\n",
       "      <th>Price</th>\n",
       "    </tr>\n",
       "  </thead>\n",
       "  <tbody>\n",
       "    <tr>\n",
       "      <th>missing_ratio</th>\n",
       "      <td>15.100000</td>\n",
       "      <td>0.000000e+00</td>\n",
       "      <td>12.700000</td>\n",
       "      <td>0.000000e+00</td>\n",
       "      <td>0.000000</td>\n",
       "    </tr>\n",
       "    <tr>\n",
       "      <th>mean</th>\n",
       "      <td>4.173243</td>\n",
       "      <td>2.165926e+05</td>\n",
       "      <td>20.394897</td>\n",
       "      <td>7.777507e+06</td>\n",
       "      <td>1.099299</td>\n",
       "    </tr>\n",
       "    <tr>\n",
       "      <th>min</th>\n",
       "      <td>1.000000</td>\n",
       "      <td>0.000000e+00</td>\n",
       "      <td>0.008301</td>\n",
       "      <td>0.000000e+00</td>\n",
       "      <td>0.000000</td>\n",
       "    </tr>\n",
       "    <tr>\n",
       "      <th>lower_quartile</th>\n",
       "      <td>4.000000</td>\n",
       "      <td>2.500000e+01</td>\n",
       "      <td>4.600000</td>\n",
       "      <td>1.000000e+03</td>\n",
       "      <td>0.000000</td>\n",
       "    </tr>\n",
       "    <tr>\n",
       "      <th>median</th>\n",
       "      <td>4.300000</td>\n",
       "      <td>9.670000e+02</td>\n",
       "      <td>12.000000</td>\n",
       "      <td>1.000000e+05</td>\n",
       "      <td>0.000000</td>\n",
       "    </tr>\n",
       "    <tr>\n",
       "      <th>upper_quartile</th>\n",
       "      <td>4.500000</td>\n",
       "      <td>2.940100e+04</td>\n",
       "      <td>28.000000</td>\n",
       "      <td>1.000000e+06</td>\n",
       "      <td>0.000000</td>\n",
       "    </tr>\n",
       "    <tr>\n",
       "      <th>max</th>\n",
       "      <td>5.000000</td>\n",
       "      <td>7.815831e+07</td>\n",
       "      <td>100.000000</td>\n",
       "      <td>1.000000e+09</td>\n",
       "      <td>400.000000</td>\n",
       "    </tr>\n",
       "  </tbody>\n",
       "</table>\n",
       "</div>"
      ],
      "text/plain": [
       "                   Rating       Reviews        Size      Installs       Price\n",
       "missing_ratio   15.100000  0.000000e+00   12.700000  0.000000e+00    0.000000\n",
       "mean             4.173243  2.165926e+05   20.394897  7.777507e+06    1.099299\n",
       "min              1.000000  0.000000e+00    0.008301  0.000000e+00    0.000000\n",
       "lower_quartile   4.000000  2.500000e+01    4.600000  1.000000e+03    0.000000\n",
       "median           4.300000  9.670000e+02   12.000000  1.000000e+05    0.000000\n",
       "upper_quartile   4.500000  2.940100e+04   28.000000  1.000000e+06    0.000000\n",
       "max              5.000000  7.815831e+07  100.000000  1.000000e+09  400.000000"
      ]
     },
     "execution_count": 15,
     "metadata": {},
     "output_type": "execute_result"
    }
   ],
   "source": [
    "num_col_info_df = apps_df.select_dtypes(include='number')\n",
    "\n",
    "def missing_ratio(s):\n",
    "    return (s.isna().mean() * 100).round(1)\n",
    "\n",
    "def median(df):\n",
    "    return (df.quantile(0.5)).round(1)\n",
    "\n",
    "def lower_quartile(df):\n",
    "    return (df.quantile(0.25)).round(1)\n",
    "\n",
    "def upper_quartile(df):\n",
    "    return (df.quantile(0.75)).round(1)\n",
    "\n",
    "num_col_info_df = num_col_info_df.agg([missing_ratio, 'mean', 'min', lower_quartile, median, upper_quartile, 'max'])\n",
    "num_col_info_df"
   ]
  },
  {
   "cell_type": "markdown",
   "id": "e859066c",
   "metadata": {},
   "source": [
    "The data have nothing abnormal. However, there are some missing values with small ratio - smaller than 20%, so we're going to fill them.\n",
    "- For `Rating`, we would fill them with the mean of each `Category`, because the difference between *mean* and *median* is not significant.\n",
    "- For `Size`, we would fill them with the median of each `Category`, because the *mean* is very different from the *median*."
   ]
  },
  {
   "cell_type": "code",
   "execution_count": 16,
   "id": "ad3baafe",
   "metadata": {},
   "outputs": [],
   "source": [
    "apps_df['Rating'] = apps_df.groupby('Category')['Rating'].transform(lambda x: x.fillna(x.mean()))\n",
    "apps_df['Size'] = apps_df.groupby('Category')['Size'].transform(lambda x: x.fillna(x.median()))"
   ]
  },
  {
   "cell_type": "code",
   "execution_count": 17,
   "id": "66c127ac",
   "metadata": {},
   "outputs": [
    {
     "data": {
      "text/html": [
       "<div>\n",
       "<style scoped>\n",
       "    .dataframe tbody tr th:only-of-type {\n",
       "        vertical-align: middle;\n",
       "    }\n",
       "\n",
       "    .dataframe tbody tr th {\n",
       "        vertical-align: top;\n",
       "    }\n",
       "\n",
       "    .dataframe thead th {\n",
       "        text-align: right;\n",
       "    }\n",
       "</style>\n",
       "<table border=\"1\" class=\"dataframe\">\n",
       "  <thead>\n",
       "    <tr style=\"text-align: right;\">\n",
       "      <th></th>\n",
       "      <th>Rating</th>\n",
       "      <th>Reviews</th>\n",
       "      <th>Size</th>\n",
       "      <th>Installs</th>\n",
       "      <th>Price</th>\n",
       "    </tr>\n",
       "  </thead>\n",
       "  <tbody>\n",
       "    <tr>\n",
       "      <th>missing_ratio</th>\n",
       "      <td>0.00000</td>\n",
       "      <td>0.000000e+00</td>\n",
       "      <td>0.000000</td>\n",
       "      <td>0.000000e+00</td>\n",
       "      <td>0.000000</td>\n",
       "    </tr>\n",
       "    <tr>\n",
       "      <th>mean</th>\n",
       "      <td>4.17223</td>\n",
       "      <td>2.165926e+05</td>\n",
       "      <td>19.439002</td>\n",
       "      <td>7.777507e+06</td>\n",
       "      <td>1.099299</td>\n",
       "    </tr>\n",
       "    <tr>\n",
       "      <th>min</th>\n",
       "      <td>1.00000</td>\n",
       "      <td>0.000000e+00</td>\n",
       "      <td>0.008301</td>\n",
       "      <td>0.000000e+00</td>\n",
       "      <td>0.000000</td>\n",
       "    </tr>\n",
       "    <tr>\n",
       "      <th>lower_quartile</th>\n",
       "      <td>4.00000</td>\n",
       "      <td>2.500000e+01</td>\n",
       "      <td>5.000000</td>\n",
       "      <td>1.000000e+03</td>\n",
       "      <td>0.000000</td>\n",
       "    </tr>\n",
       "    <tr>\n",
       "      <th>median</th>\n",
       "      <td>4.20000</td>\n",
       "      <td>9.670000e+02</td>\n",
       "      <td>11.000000</td>\n",
       "      <td>1.000000e+05</td>\n",
       "      <td>0.000000</td>\n",
       "    </tr>\n",
       "    <tr>\n",
       "      <th>upper_quartile</th>\n",
       "      <td>4.50000</td>\n",
       "      <td>2.940100e+04</td>\n",
       "      <td>26.000000</td>\n",
       "      <td>1.000000e+06</td>\n",
       "      <td>0.000000</td>\n",
       "    </tr>\n",
       "    <tr>\n",
       "      <th>max</th>\n",
       "      <td>5.00000</td>\n",
       "      <td>7.815831e+07</td>\n",
       "      <td>100.000000</td>\n",
       "      <td>1.000000e+09</td>\n",
       "      <td>400.000000</td>\n",
       "    </tr>\n",
       "  </tbody>\n",
       "</table>\n",
       "</div>"
      ],
      "text/plain": [
       "                 Rating       Reviews        Size      Installs       Price\n",
       "missing_ratio   0.00000  0.000000e+00    0.000000  0.000000e+00    0.000000\n",
       "mean            4.17223  2.165926e+05   19.439002  7.777507e+06    1.099299\n",
       "min             1.00000  0.000000e+00    0.008301  0.000000e+00    0.000000\n",
       "lower_quartile  4.00000  2.500000e+01    5.000000  1.000000e+03    0.000000\n",
       "median          4.20000  9.670000e+02   11.000000  1.000000e+05    0.000000\n",
       "upper_quartile  4.50000  2.940100e+04   26.000000  1.000000e+06    0.000000\n",
       "max             5.00000  7.815831e+07  100.000000  1.000000e+09  400.000000"
      ]
     },
     "execution_count": 17,
     "metadata": {},
     "output_type": "execute_result"
    }
   ],
   "source": [
    "# double check on numeric columns\n",
    "num_col_info_df = apps_df.select_dtypes(include='number')\n",
    "num_col_info_df = num_col_info_df.agg([missing_ratio, 'mean', 'min', lower_quartile, median, upper_quartile, 'max'])\n",
    "num_col_info_df"
   ]
  },
  {
   "cell_type": "markdown",
   "id": "b8c7d939",
   "metadata": {},
   "source": [
    "### With each categorical column, how are values distributed?"
   ]
  },
  {
   "cell_type": "code",
   "execution_count": 18,
   "id": "e3010342",
   "metadata": {},
   "outputs": [
    {
     "data": {
      "text/html": [
       "<div>\n",
       "<style scoped>\n",
       "    .dataframe tbody tr th:only-of-type {\n",
       "        vertical-align: middle;\n",
       "    }\n",
       "\n",
       "    .dataframe tbody tr th {\n",
       "        vertical-align: top;\n",
       "    }\n",
       "\n",
       "    .dataframe thead th {\n",
       "        text-align: right;\n",
       "    }\n",
       "</style>\n",
       "<table border=\"1\" class=\"dataframe\">\n",
       "  <thead>\n",
       "    <tr style=\"text-align: right;\">\n",
       "      <th></th>\n",
       "      <th>App</th>\n",
       "      <th>Category</th>\n",
       "      <th>Type</th>\n",
       "      <th>Content Rating</th>\n",
       "      <th>Genres</th>\n",
       "      <th>Current Ver</th>\n",
       "      <th>Android Ver</th>\n",
       "    </tr>\n",
       "  </thead>\n",
       "  <tbody>\n",
       "    <tr>\n",
       "      <th>missing_ratio</th>\n",
       "      <td>0.0</td>\n",
       "      <td>0.0</td>\n",
       "      <td>0.0</td>\n",
       "      <td>0.0</td>\n",
       "      <td>0.0</td>\n",
       "      <td>0.1</td>\n",
       "      <td>0.0</td>\n",
       "    </tr>\n",
       "    <tr>\n",
       "      <th>num_values</th>\n",
       "      <td>9659</td>\n",
       "      <td>33</td>\n",
       "      <td>2</td>\n",
       "      <td>6</td>\n",
       "      <td>53</td>\n",
       "      <td>2768</td>\n",
       "      <td>33</td>\n",
       "    </tr>\n",
       "    <tr>\n",
       "      <th>value_counts</th>\n",
       "      <td>{'Photo Editor &amp; Candy Camera &amp; Grid &amp; ScrapBo...</td>\n",
       "      <td>{'FAMILY': 1832, 'GAME': 959, 'TOOLS': 827, 'B...</td>\n",
       "      <td>{'Free': 8902, 'Paid': 756}</td>\n",
       "      <td>{'Everyone': 7903, 'Teen': 1036, 'Mature 17+':...</td>\n",
       "      <td>{'Tools': 827, 'Education': 678, 'Entertainmen...</td>\n",
       "      <td>{'Varies with device': 1055, '1': 831, '1.1': ...</td>\n",
       "      <td>{'4.1 and up': 2202, '4.0.3 and up': 1395, '4....</td>\n",
       "    </tr>\n",
       "  </tbody>\n",
       "</table>\n",
       "</div>"
      ],
      "text/plain": [
       "                                                             App  \\\n",
       "missing_ratio                                                0.0   \n",
       "num_values                                                  9659   \n",
       "value_counts   {'Photo Editor & Candy Camera & Grid & ScrapBo...   \n",
       "\n",
       "                                                        Category  \\\n",
       "missing_ratio                                                0.0   \n",
       "num_values                                                    33   \n",
       "value_counts   {'FAMILY': 1832, 'GAME': 959, 'TOOLS': 827, 'B...   \n",
       "\n",
       "                                      Type  \\\n",
       "missing_ratio                          0.0   \n",
       "num_values                               2   \n",
       "value_counts   {'Free': 8902, 'Paid': 756}   \n",
       "\n",
       "                                                  Content Rating  \\\n",
       "missing_ratio                                                0.0   \n",
       "num_values                                                     6   \n",
       "value_counts   {'Everyone': 7903, 'Teen': 1036, 'Mature 17+':...   \n",
       "\n",
       "                                                          Genres  \\\n",
       "missing_ratio                                                0.0   \n",
       "num_values                                                    53   \n",
       "value_counts   {'Tools': 827, 'Education': 678, 'Entertainmen...   \n",
       "\n",
       "                                                     Current Ver  \\\n",
       "missing_ratio                                                0.1   \n",
       "num_values                                                  2768   \n",
       "value_counts   {'Varies with device': 1055, '1': 831, '1.1': ...   \n",
       "\n",
       "                                                     Android Ver  \n",
       "missing_ratio                                                0.0  \n",
       "num_values                                                    33  \n",
       "value_counts   {'4.1 and up': 2202, '4.0.3 and up': 1395, '4....  "
      ]
     },
     "execution_count": 18,
     "metadata": {},
     "output_type": "execute_result"
    }
   ],
   "source": [
    "cat_col_info_df = apps_df.select_dtypes(include='object')\n",
    "\n",
    "def missing_ratio(s):\n",
    "    return (s.isna().mean() * 100).round(1)\n",
    "\n",
    "def num_values(s):\n",
    "    s = s.str.split(';')\n",
    "    s = s.explode()\n",
    "    return len(s.value_counts())\n",
    "\n",
    "def value_counts(s):\n",
    "    s = s.str.split(';')\n",
    "    s = s.explode()\n",
    "    return (s.value_counts()).to_dict()\n",
    "\n",
    "cat_col_info_df = cat_col_info_df.agg([missing_ratio, num_values, value_counts])\n",
    "cat_col_info_df"
   ]
  },
  {
   "cell_type": "markdown",
   "id": "022a8a5a",
   "metadata": {},
   "source": [
    "The data do not seem abnormal. However, we notice that: \n",
    "- `Category` and `Genres` seem to have the same meaning, so we would drop `Geners` column.\n",
    "- `Current Ver` has 0.1% missing ratio. However, we can not really exploit so much information from this column, so we gonna drop it instead of filling them with some value."
   ]
  },
  {
   "cell_type": "code",
   "execution_count": 19,
   "id": "ac4701c3",
   "metadata": {},
   "outputs": [],
   "source": [
    "apps_df.drop(columns=['Genres', 'Current Ver'], inplace=True)"
   ]
  },
  {
   "cell_type": "code",
   "execution_count": 20,
   "id": "42f1d7ca",
   "metadata": {},
   "outputs": [
    {
     "data": {
      "text/html": [
       "<div>\n",
       "<style scoped>\n",
       "    .dataframe tbody tr th:only-of-type {\n",
       "        vertical-align: middle;\n",
       "    }\n",
       "\n",
       "    .dataframe tbody tr th {\n",
       "        vertical-align: top;\n",
       "    }\n",
       "\n",
       "    .dataframe thead th {\n",
       "        text-align: right;\n",
       "    }\n",
       "</style>\n",
       "<table border=\"1\" class=\"dataframe\">\n",
       "  <thead>\n",
       "    <tr style=\"text-align: right;\">\n",
       "      <th></th>\n",
       "      <th>App</th>\n",
       "      <th>Category</th>\n",
       "      <th>Type</th>\n",
       "      <th>Content Rating</th>\n",
       "      <th>Android Ver</th>\n",
       "    </tr>\n",
       "  </thead>\n",
       "  <tbody>\n",
       "    <tr>\n",
       "      <th>missing_ratio</th>\n",
       "      <td>0.0</td>\n",
       "      <td>0.0</td>\n",
       "      <td>0.0</td>\n",
       "      <td>0.0</td>\n",
       "      <td>0.0</td>\n",
       "    </tr>\n",
       "    <tr>\n",
       "      <th>num_values</th>\n",
       "      <td>9659</td>\n",
       "      <td>33</td>\n",
       "      <td>2</td>\n",
       "      <td>6</td>\n",
       "      <td>33</td>\n",
       "    </tr>\n",
       "    <tr>\n",
       "      <th>value_counts</th>\n",
       "      <td>{'Photo Editor &amp; Candy Camera &amp; Grid &amp; ScrapBo...</td>\n",
       "      <td>{'FAMILY': 1832, 'GAME': 959, 'TOOLS': 827, 'B...</td>\n",
       "      <td>{'Free': 8902, 'Paid': 756}</td>\n",
       "      <td>{'Everyone': 7903, 'Teen': 1036, 'Mature 17+':...</td>\n",
       "      <td>{'4.1 and up': 2202, '4.0.3 and up': 1395, '4....</td>\n",
       "    </tr>\n",
       "  </tbody>\n",
       "</table>\n",
       "</div>"
      ],
      "text/plain": [
       "                                                             App  \\\n",
       "missing_ratio                                                0.0   \n",
       "num_values                                                  9659   \n",
       "value_counts   {'Photo Editor & Candy Camera & Grid & ScrapBo...   \n",
       "\n",
       "                                                        Category  \\\n",
       "missing_ratio                                                0.0   \n",
       "num_values                                                    33   \n",
       "value_counts   {'FAMILY': 1832, 'GAME': 959, 'TOOLS': 827, 'B...   \n",
       "\n",
       "                                      Type  \\\n",
       "missing_ratio                          0.0   \n",
       "num_values                               2   \n",
       "value_counts   {'Free': 8902, 'Paid': 756}   \n",
       "\n",
       "                                                  Content Rating  \\\n",
       "missing_ratio                                                0.0   \n",
       "num_values                                                     6   \n",
       "value_counts   {'Everyone': 7903, 'Teen': 1036, 'Mature 17+':...   \n",
       "\n",
       "                                                     Android Ver  \n",
       "missing_ratio                                                0.0  \n",
       "num_values                                                    33  \n",
       "value_counts   {'4.1 and up': 2202, '4.0.3 and up': 1395, '4....  "
      ]
     },
     "execution_count": 20,
     "metadata": {},
     "output_type": "execute_result"
    }
   ],
   "source": [
    "# double check on category columns\n",
    "cat_col_info_df = apps_df.select_dtypes(include='object')\n",
    "cat_col_info_df = cat_col_info_df.agg([missing_ratio, num_values, value_counts])\n",
    "cat_col_info_df"
   ]
  },
  {
   "cell_type": "markdown",
   "id": "53c22d1a",
   "metadata": {},
   "source": [
    "We have another data type `datetime` which we have not checked yet."
   ]
  },
  {
   "cell_type": "code",
   "execution_count": 28,
   "id": "54014a0d",
   "metadata": {},
   "outputs": [
    {
     "name": "stdout",
     "output_type": "stream",
     "text": [
      "Missing ratio of 'Last Updated': 0.0\n"
     ]
    }
   ],
   "source": [
    "datetime_ratio = apps_df['Last Updated'].isna().mean() * 100\n",
    "print(f\"Missing ratio of 'Last Updated': {datetime_ratio}\")"
   ]
  },
  {
   "cell_type": "markdown",
   "id": "2cd2f78f",
   "metadata": {},
   "source": [
    "Now, we have finished pre-process the data!!!"
   ]
  },
  {
   "cell_type": "markdown",
   "id": "6d9228f5",
   "metadata": {},
   "source": [
    "## Save the cleaned data"
   ]
  },
  {
   "cell_type": "code",
   "execution_count": 21,
   "id": "67c18d88",
   "metadata": {},
   "outputs": [
    {
     "name": "stdout",
     "output_type": "stream",
     "text": [
      "Total number of features: 11\n"
     ]
    },
    {
     "data": {
      "text/plain": [
       "App                       object\n",
       "Category                  object\n",
       "Rating                   float64\n",
       "Reviews                    int64\n",
       "Size                     float64\n",
       "Installs                   int64\n",
       "Type                      object\n",
       "Price                    float64\n",
       "Content Rating            object\n",
       "Last Updated      datetime64[ns]\n",
       "Android Ver               object\n",
       "dtype: object"
      ]
     },
     "execution_count": 21,
     "metadata": {},
     "output_type": "execute_result"
    }
   ],
   "source": [
    "print(f\"Total number of features: {apps_df.shape[1]}\")\n",
    "apps_df.dtypes"
   ]
  },
  {
   "cell_type": "code",
   "execution_count": 24,
   "id": "7fa549c1",
   "metadata": {},
   "outputs": [],
   "source": [
    "apps_df.to_csv(\"../Data/Processed/cleaned_data.csv\", index=False)"
   ]
  }
 ],
 "metadata": {
  "kernelspec": {
   "display_name": "Python 3 (ipykernel)",
   "language": "python",
   "name": "python3"
  },
  "language_info": {
   "codemirror_mode": {
    "name": "ipython",
    "version": 3
   },
   "file_extension": ".py",
   "mimetype": "text/x-python",
   "name": "python",
   "nbconvert_exporter": "python",
   "pygments_lexer": "ipython3",
   "version": "3.10.8"
  }
 },
 "nbformat": 4,
 "nbformat_minor": 5
}
