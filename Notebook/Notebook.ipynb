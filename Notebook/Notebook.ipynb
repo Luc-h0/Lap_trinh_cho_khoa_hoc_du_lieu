{
 "cells": [
  {
   "cell_type": "markdown",
   "id": "0e0c773f-c109-47f7-b2f4-d7b55ecbd429",
   "metadata": {},
   "source": [
    "<div style=\"text-align: center; background-color: #559cff; font-family: 'Trebuchet MS', Arial, sans-serif; color: white; padding: 20px; font-size: 40px; font-weight: bold; border-radius: 0 0 0 0; box-shadow: 0px 6px 8px rgba(0, 0, 0, 0.2);\">\n",
    " Final Project -Programming for  Data Science @ FIT-HCMUS, VNU-HCM 📌\n",
    "</div>"
   ]
  },
  {
   "cell_type": "markdown",
   "id": "1bf7271e-7d34-4df5-9186-ccf4183543f9",
   "metadata": {},
   "source": [
    "<div style=\"text-align: center; font-family: 'Trebuchet MS', Arial, sans-serif; padding: 20px; font-size: 25px; font-weight: bold; border-radius: 0 0 0 0\">\n",
    "  TOPIC: ANALYSIS ON GOOGLE PLAY STORE APP\n",
    "</div>"
   ]
  },
  {
   "cell_type": "markdown",
   "id": "14fc5a42-44c7-4049-9826-509c4ae04702",
   "metadata": {},
   "source": [
    "STUDENT INFORMATION:\n"
   ]
  },
  {
   "cell_type": "markdown",
   "id": "72f54b63-2f8c-4f88-ada5-6237fd275d24",
   "metadata": {},
   "source": [
    "OVERVIEW OF THE TOPIC:\n",
    "- Reason forchoosing topic:\n"
   ]
  },
  {
   "cell_type": "markdown",
   "id": "0db6e400-421b-48ac-8566-d0f600d5bc27",
   "metadata": {},
   "source": [
    "DATASET INFORMATION:\n",
    "- Source:\n",
    "- License: "
   ]
  },
  {
   "cell_type": "markdown",
   "id": "6c4ee3da-d66c-4688-a361-83f02335da82",
   "metadata": {},
   "source": [
    "# Data Exploration - Preprocessing\n"
   ]
  },
  {
   "cell_type": "markdown",
   "id": "45f57dc9-ac49-4ad5-a730-6bc686ba69ea",
   "metadata": {},
   "source": [
    "## Import Library\n"
   ]
  },
  {
   "cell_type": "code",
   "execution_count": 1,
   "id": "f469d4cb-7e65-4e0a-8972-9ba49284bdd7",
   "metadata": {},
   "outputs": [],
   "source": [
    "import os\n",
    "import sys\n",
    "\n",
    "module_path = os.path.abspath(os.path.join('..'))\n",
    "if module_path not in sys.path:\n",
    "    sys.path.append(module_path)\n",
    "    \n",
    "import pandas as pd\n",
    "import numpy as np\n",
    "\n",
    "# with pd.option_context('display.max_rows', None, 'display.max_columns', None):"
   ]
  },
  {
   "cell_type": "markdown",
   "id": "56f20562-3d07-43ab-afe1-fcb7575727b6",
   "metadata": {},
   "source": [
    "## Exploring data"
   ]
  },
  {
   "cell_type": "markdown",
   "id": "18b0db2c-7ad0-418f-aa7a-dba8d30afddf",
   "metadata": {},
   "source": [
    "### Read raw data from file"
   ]
  },
  {
   "cell_type": "code",
   "execution_count": 2,
   "id": "bfaa9b8e-cc4a-45bc-bf7a-37023acb3611",
   "metadata": {},
   "outputs": [],
   "source": [
    "apps_df = pd.read_csv(\"../Data/Raw/googleplaystore.csv\")"
   ]
  },
  {
   "cell_type": "markdown",
   "id": "03fd2486",
   "metadata": {},
   "source": [
    "### How many rows and how many columns?"
   ]
  },
  {
   "cell_type": "code",
   "execution_count": 3,
   "id": "e65f88e7-6acc-40f8-8c2a-e194657823c2",
   "metadata": {},
   "outputs": [
    {
     "name": "stdout",
     "output_type": "stream",
     "text": [
      "Number of rows: 10840\n",
      "Number of columns: 13\n"
     ]
    }
   ],
   "source": [
    "# Shape of dateset\n",
    "shape = apps_df.shape\n",
    "print(f'Number of rows: {shape[0]}')\n",
    "print(f'Number of columns: {shape[1]}')"
   ]
  },
  {
   "cell_type": "markdown",
   "id": "b99305e0",
   "metadata": {},
   "source": [
    "### What is the meaning of each row?"
   ]
  },
  {
   "cell_type": "code",
   "execution_count": 4,
   "id": "5e39c087",
   "metadata": {},
   "outputs": [
    {
     "data": {
      "text/html": [
       "<div>\n",
       "<style scoped>\n",
       "    .dataframe tbody tr th:only-of-type {\n",
       "        vertical-align: middle;\n",
       "    }\n",
       "\n",
       "    .dataframe tbody tr th {\n",
       "        vertical-align: top;\n",
       "    }\n",
       "\n",
       "    .dataframe thead th {\n",
       "        text-align: right;\n",
       "    }\n",
       "</style>\n",
       "<table border=\"1\" class=\"dataframe\">\n",
       "  <thead>\n",
       "    <tr style=\"text-align: right;\">\n",
       "      <th></th>\n",
       "      <th>App</th>\n",
       "      <th>Category</th>\n",
       "      <th>Rating</th>\n",
       "      <th>Reviews</th>\n",
       "      <th>Size</th>\n",
       "      <th>Installs</th>\n",
       "      <th>Type</th>\n",
       "      <th>Price</th>\n",
       "      <th>Content Rating</th>\n",
       "      <th>Genres</th>\n",
       "      <th>Last Updated</th>\n",
       "      <th>Current Ver</th>\n",
       "      <th>Android Ver</th>\n",
       "    </tr>\n",
       "  </thead>\n",
       "  <tbody>\n",
       "    <tr>\n",
       "      <th>0</th>\n",
       "      <td>Photo Editor &amp; Candy Camera &amp; Grid &amp; ScrapBook</td>\n",
       "      <td>ART_AND_DESIGN</td>\n",
       "      <td>4.1</td>\n",
       "      <td>159</td>\n",
       "      <td>19M</td>\n",
       "      <td>10,000+</td>\n",
       "      <td>Free</td>\n",
       "      <td>0</td>\n",
       "      <td>Everyone</td>\n",
       "      <td>Art &amp; Design</td>\n",
       "      <td>7-Jan-18</td>\n",
       "      <td>1.0.0</td>\n",
       "      <td>4.0.3 and up</td>\n",
       "    </tr>\n",
       "    <tr>\n",
       "      <th>1</th>\n",
       "      <td>Coloring book moana</td>\n",
       "      <td>ART_AND_DESIGN</td>\n",
       "      <td>3.9</td>\n",
       "      <td>967</td>\n",
       "      <td>14M</td>\n",
       "      <td>500,000+</td>\n",
       "      <td>Free</td>\n",
       "      <td>0</td>\n",
       "      <td>Everyone</td>\n",
       "      <td>Art &amp; Design;Pretend Play</td>\n",
       "      <td>15-Jan-18</td>\n",
       "      <td>2.0.0</td>\n",
       "      <td>4.0.3 and up</td>\n",
       "    </tr>\n",
       "    <tr>\n",
       "      <th>2</th>\n",
       "      <td>U Launcher Lite – FREE Live Cool Themes, Hide ...</td>\n",
       "      <td>ART_AND_DESIGN</td>\n",
       "      <td>4.7</td>\n",
       "      <td>87510</td>\n",
       "      <td>8.7M</td>\n",
       "      <td>5,000,000+</td>\n",
       "      <td>Free</td>\n",
       "      <td>0</td>\n",
       "      <td>Everyone</td>\n",
       "      <td>Art &amp; Design</td>\n",
       "      <td>1-Aug-18</td>\n",
       "      <td>1.2.4</td>\n",
       "      <td>4.0.3 and up</td>\n",
       "    </tr>\n",
       "    <tr>\n",
       "      <th>3</th>\n",
       "      <td>Sketch - Draw &amp; Paint</td>\n",
       "      <td>ART_AND_DESIGN</td>\n",
       "      <td>4.5</td>\n",
       "      <td>215644</td>\n",
       "      <td>25M</td>\n",
       "      <td>50,000,000+</td>\n",
       "      <td>Free</td>\n",
       "      <td>0</td>\n",
       "      <td>Teen</td>\n",
       "      <td>Art &amp; Design</td>\n",
       "      <td>8-Jun-18</td>\n",
       "      <td>Varies with device</td>\n",
       "      <td>4.2 and up</td>\n",
       "    </tr>\n",
       "    <tr>\n",
       "      <th>4</th>\n",
       "      <td>Pixel Draw - Number Art Coloring Book</td>\n",
       "      <td>ART_AND_DESIGN</td>\n",
       "      <td>4.3</td>\n",
       "      <td>967</td>\n",
       "      <td>2.8M</td>\n",
       "      <td>100,000+</td>\n",
       "      <td>Free</td>\n",
       "      <td>0</td>\n",
       "      <td>Everyone</td>\n",
       "      <td>Art &amp; Design;Creativity</td>\n",
       "      <td>20-Jun-18</td>\n",
       "      <td>1.1</td>\n",
       "      <td>4.4 and up</td>\n",
       "    </tr>\n",
       "  </tbody>\n",
       "</table>\n",
       "</div>"
      ],
      "text/plain": [
       "                                                 App        Category  Rating  \\\n",
       "0     Photo Editor & Candy Camera & Grid & ScrapBook  ART_AND_DESIGN     4.1   \n",
       "1                                Coloring book moana  ART_AND_DESIGN     3.9   \n",
       "2  U Launcher Lite – FREE Live Cool Themes, Hide ...  ART_AND_DESIGN     4.7   \n",
       "3                              Sketch - Draw & Paint  ART_AND_DESIGN     4.5   \n",
       "4              Pixel Draw - Number Art Coloring Book  ART_AND_DESIGN     4.3   \n",
       "\n",
       "   Reviews  Size     Installs  Type Price Content Rating  \\\n",
       "0      159   19M      10,000+  Free     0       Everyone   \n",
       "1      967   14M     500,000+  Free     0       Everyone   \n",
       "2    87510  8.7M   5,000,000+  Free     0       Everyone   \n",
       "3   215644   25M  50,000,000+  Free     0           Teen   \n",
       "4      967  2.8M     100,000+  Free     0       Everyone   \n",
       "\n",
       "                      Genres Last Updated         Current Ver   Android Ver  \n",
       "0               Art & Design     7-Jan-18               1.0.0  4.0.3 and up  \n",
       "1  Art & Design;Pretend Play    15-Jan-18               2.0.0  4.0.3 and up  \n",
       "2               Art & Design     1-Aug-18               1.2.4  4.0.3 and up  \n",
       "3               Art & Design     8-Jun-18  Varies with device    4.2 and up  \n",
       "4    Art & Design;Creativity    20-Jun-18                 1.1    4.4 and up  "
      ]
     },
     "execution_count": 4,
     "metadata": {},
     "output_type": "execute_result"
    }
   ],
   "source": [
    "apps_df.head(5)"
   ]
  },
  {
   "cell_type": "markdown",
   "id": "d3d6495c",
   "metadata": {},
   "source": [
    "Each row contains information of an application on Google Play Store."
   ]
  },
  {
   "cell_type": "markdown",
   "id": "3b194640",
   "metadata": {},
   "source": [
    "### Are there duplicated rows?"
   ]
  },
  {
   "cell_type": "code",
   "execution_count": 5,
   "id": "c5a1ff79",
   "metadata": {},
   "outputs": [
    {
     "name": "stdout",
     "output_type": "stream",
     "text": [
      "The data have 483 duplicated rows\n"
     ]
    }
   ],
   "source": [
    "# index = apps_df.index\n",
    "detectDupSeries = apps_df.duplicated(keep='first')\n",
    "num_duplicated_rows = detectDupSeries.sum()\n",
    "print(f'The data have {num_duplicated_rows} duplicated rows')"
   ]
  },
  {
   "cell_type": "markdown",
   "id": "e706963a",
   "metadata": {},
   "source": [
    "So we're going to drop duplicated rows."
   ]
  },
  {
   "cell_type": "code",
   "execution_count": 6,
   "id": "d01ea2b8",
   "metadata": {},
   "outputs": [
    {
     "data": {
      "text/plain": [
       "(10357, 13)"
      ]
     },
     "execution_count": 6,
     "metadata": {},
     "output_type": "execute_result"
    }
   ],
   "source": [
    "apps_df.drop_duplicates(keep='first', inplace=True)\n",
    "apps_df.shape"
   ]
  },
  {
   "cell_type": "markdown",
   "id": "5dee4f0b",
   "metadata": {},
   "source": [
    "### What is the meaning of each column?"
   ]
  },
  {
   "cell_type": "markdown",
   "id": "308d9488",
   "metadata": {},
   "source": [
    "**Apps dataset columns descriptions:**\n",
    "\n",
    "This file contains all the details of the apps on Google Play. There are 13 features that describe a given app.\n",
    "\n",
    "- **App**: Name of the app\n",
    "- **Category**: Category of the app. Some examples are: ART_AND_DESIGN, FINANCE, COMICS, BEAUTY etc.\n",
    "- **Rating**: The current average rating (out of 5) of the app on Google Play.\n",
    "- **Reviews**: Number of user reviews given on the app.\n",
    "- **Size**: Size of the app in MB (megabytes).\n",
    "- **Installs**: Number of times the app was downloaded from Google Play\n",
    "- **Type**: Whether the app is paid or free.\n",
    "- **Price**: Price of the app in US$\n",
    "- **Last Updated**: Date on which the app was last updated on Google Play\n",
    "- **Content Rating**: Subject the app aim to.\n",
    "- **Genres**: Type of the application.\n",
    "- **Current Ver**: Newest version that has been released by the publisher.\n",
    "- **Android Ver**: The cofiguration that devices need in order to work properly.rk properly.roperly.yd or fr Google Play"
   ]
  },
  {
   "cell_type": "markdown",
   "id": "f56ac4ec-13bc-4d99-9271-0d2a271b37e5",
   "metadata": {},
   "source": [
    "###  What is the current data type of each column? Are there columns having inappropriate data types?"
   ]
  },
  {
   "cell_type": "code",
   "execution_count": 7,
   "id": "6f319526",
   "metadata": {},
   "outputs": [
    {
     "data": {
      "text/plain": [
       "App                object\n",
       "Category           object\n",
       "Rating            float64\n",
       "Reviews             int64\n",
       "Size               object\n",
       "Installs           object\n",
       "Type               object\n",
       "Price              object\n",
       "Content Rating     object\n",
       "Genres             object\n",
       "Last Updated       object\n",
       "Current Ver        object\n",
       "Android Ver        object\n",
       "dtype: object"
      ]
     },
     "execution_count": 7,
     "metadata": {},
     "output_type": "execute_result"
    }
   ],
   "source": [
    "apps_df.dtypes"
   ]
  },
  {
   "cell_type": "markdown",
   "id": "00bb7ac7",
   "metadata": {},
   "source": [
    "We observe that `Installs`, `Price`, `Size` should have *numeric* datatype and `Last Updated` should has *datetime* datatype."
   ]
  },
  {
   "cell_type": "markdown",
   "id": "5a162e7d",
   "metadata": {},
   "source": [
    "`Installs` feature also should has numeric datatype. First, we will remove non-digit charater in this columns, then, convert them to numeric."
   ]
  },
  {
   "cell_type": "code",
   "execution_count": 8,
   "id": "9ea49647",
   "metadata": {},
   "outputs": [],
   "source": [
    "apps_df['Installs'] = apps_df['Installs'].str.replace(r'\\D', '', regex=True)\n",
    "apps_df['Installs'] = pd.to_numeric(apps_df['Installs'], errors='raise')"
   ]
  },
  {
   "cell_type": "markdown",
   "id": "999257b2",
   "metadata": {},
   "source": [
    "In `Price` column, first, we'll find out what make them be non-numeric."
   ]
  },
  {
   "cell_type": "code",
   "execution_count": 9,
   "id": "3356af44",
   "metadata": {},
   "outputs": [
    {
     "data": {
      "text/plain": [
       "234       $4.99 \n",
       "235       $4.99 \n",
       "427       $3.99 \n",
       "476       $3.99 \n",
       "477       $6.99 \n",
       "          ...   \n",
       "10734     $0.99 \n",
       "10759     $7.99 \n",
       "10781    $16.99 \n",
       "10784     $1.20 \n",
       "10797     $1.04 \n",
       "Name: Price, Length: 765, dtype: object"
      ]
     },
     "execution_count": 9,
     "metadata": {},
     "output_type": "execute_result"
    }
   ],
   "source": [
    "price_series = apps_df['Price']\n",
    "strange_data = price_series[~price_series.str.isnumeric()]\n",
    "strange_data"
   ]
  },
  {
   "cell_type": "markdown",
   "id": "0a38012f",
   "metadata": {},
   "source": [
    "At first, we predict that the '$' at the head makes them being strings. Eliminating this character does not affecting our dataset, so we should remove them. However, to be more carefully, we would check whether there are any non-number characters in this column. "
   ]
  },
  {
   "cell_type": "code",
   "execution_count": 10,
   "id": "cf2fe18a",
   "metadata": {},
   "outputs": [
    {
     "data": {
      "text/plain": [
       "Series([], Name: Price, dtype: object)"
      ]
     },
     "execution_count": 10,
     "metadata": {},
     "output_type": "execute_result"
    }
   ],
   "source": [
    "strange_data[~strange_data.str.contains(r'\\$')]"
   ]
  },
  {
   "cell_type": "markdown",
   "id": "e360fbe5",
   "metadata": {},
   "source": [
    "Now, we see all problems that make the column \"non-numeric\". We'll handle them."
   ]
  },
  {
   "cell_type": "code",
   "execution_count": 11,
   "id": "a31735de",
   "metadata": {},
   "outputs": [],
   "source": [
    "apps_df['Price'] = apps_df['Price'].str.replace(r'\\$', '', regex=True)\n",
    "apps_df['Price'] = pd.to_numeric(apps_df['Price'], errors='raise')"
   ]
  },
  {
   "cell_type": "markdown",
   "id": "64780b05",
   "metadata": {},
   "source": [
    "Now, we would convert `Last Updated` to *datetime*."
   ]
  },
  {
   "cell_type": "code",
   "execution_count": 12,
   "id": "39d76d85",
   "metadata": {},
   "outputs": [],
   "source": [
    "apps_df['Last Updated'] = pd.to_datetime(apps_df['Last Updated'], format=\"%d-%b-%y\", errors='raise')"
   ]
  },
  {
   "cell_type": "markdown",
   "id": "fecf8e6f",
   "metadata": {},
   "source": [
    "To pre-process `Size`, we would split the size number and their unit to new column. Then, we would scale them in to the same unit (M) because some apps have size value in k instead of M"
   ]
  },
  {
   "cell_type": "code",
   "execution_count": 13,
   "id": "b3a7849a",
   "metadata": {},
   "outputs": [],
   "source": [
    "def SizeUnit(str): # return the unit of size\n",
    "    if str[-1] == 'M':\n",
    "        return 'M'\n",
    "    elif str[-1] == 'k':\n",
    "        return 'k'\n",
    "    elif str == 'Varies with device':\n",
    "        return 'Varies with device'\n",
    "\n",
    "# create new column to store size unit\n",
    "apps_df['Size Unit'] = apps_df['Size'].apply(lambda x: SizeUnit(x))\n",
    "# remove unit attached to size\n",
    "apps_df['Size'] = apps_df['Size'].apply(lambda x: x[:-1])\n",
    "# replace unclear size by np.nan\n",
    "apps_df['Size'] = apps_df['Size'].replace('Varies with devic', np.nan)\n",
    "\n",
    "# change all value to the same scale\n",
    "apps_df['Size'] = pd.to_numeric(apps_df['Size'], errors='raise')\n",
    "apps_df['Size'] = np.where(apps_df['Size Unit'] == 'k', apps_df['Size']/1024, apps_df['Size'])\n",
    "\n",
    "# drop 'Size Unit' because it is no longer neccessary\n",
    "apps_df.drop(columns='Size Unit', inplace=True)"
   ]
  },
  {
   "cell_type": "markdown",
   "id": "77eedb67",
   "metadata": {},
   "source": [
    "Double check on data type."
   ]
  },
  {
   "cell_type": "code",
   "execution_count": 14,
   "id": "648900c2",
   "metadata": {},
   "outputs": [
    {
     "data": {
      "text/plain": [
       "App                       object\n",
       "Category                  object\n",
       "Rating                   float64\n",
       "Reviews                    int64\n",
       "Size                     float64\n",
       "Installs                   int64\n",
       "Type                      object\n",
       "Price                    float64\n",
       "Content Rating            object\n",
       "Genres                    object\n",
       "Last Updated      datetime64[ns]\n",
       "Current Ver               object\n",
       "Android Ver               object\n",
       "dtype: object"
      ]
     },
     "execution_count": 14,
     "metadata": {},
     "output_type": "execute_result"
    }
   ],
   "source": [
    "apps_df.dtypes"
   ]
  },
  {
   "cell_type": "markdown",
   "id": "47de6f5e",
   "metadata": {},
   "source": [
    "Now, they seem appropriate for analysing!!!"
   ]
  },
  {
   "cell_type": "markdown",
   "id": "e4760f85",
   "metadata": {},
   "source": [
    "### With each numerical column, how are values distributed?"
   ]
  },
  {
   "cell_type": "code",
   "execution_count": 20,
   "id": "c2f54ddf",
   "metadata": {},
   "outputs": [
    {
     "data": {
      "text/html": [
       "<div>\n",
       "<style scoped>\n",
       "    .dataframe tbody tr th:only-of-type {\n",
       "        vertical-align: middle;\n",
       "    }\n",
       "\n",
       "    .dataframe tbody tr th {\n",
       "        vertical-align: top;\n",
       "    }\n",
       "\n",
       "    .dataframe thead th {\n",
       "        text-align: right;\n",
       "    }\n",
       "</style>\n",
       "<table border=\"1\" class=\"dataframe\">\n",
       "  <thead>\n",
       "    <tr style=\"text-align: right;\">\n",
       "      <th></th>\n",
       "      <th>Rating</th>\n",
       "      <th>Reviews</th>\n",
       "      <th>Size</th>\n",
       "      <th>Installs</th>\n",
       "      <th>Price</th>\n",
       "    </tr>\n",
       "  </thead>\n",
       "  <tbody>\n",
       "    <tr>\n",
       "      <th>missing_ratio</th>\n",
       "      <td>0.00000</td>\n",
       "      <td>0.000000e+00</td>\n",
       "      <td>0.000000</td>\n",
       "      <td>0.000000e+00</td>\n",
       "      <td>0.0000</td>\n",
       "    </tr>\n",
       "    <tr>\n",
       "      <th>mean</th>\n",
       "      <td>4.18638</td>\n",
       "      <td>4.059046e+05</td>\n",
       "      <td>20.147291</td>\n",
       "      <td>1.415776e+07</td>\n",
       "      <td>1.0308</td>\n",
       "    </tr>\n",
       "    <tr>\n",
       "      <th>min</th>\n",
       "      <td>1.00000</td>\n",
       "      <td>0.000000e+00</td>\n",
       "      <td>0.008301</td>\n",
       "      <td>0.000000e+00</td>\n",
       "      <td>0.0000</td>\n",
       "    </tr>\n",
       "    <tr>\n",
       "      <th>lower_quartile</th>\n",
       "      <td>4.00000</td>\n",
       "      <td>3.200000e+01</td>\n",
       "      <td>5.400000</td>\n",
       "      <td>1.000000e+03</td>\n",
       "      <td>0.0000</td>\n",
       "    </tr>\n",
       "    <tr>\n",
       "      <th>median</th>\n",
       "      <td>4.30000</td>\n",
       "      <td>1.680000e+03</td>\n",
       "      <td>12.000000</td>\n",
       "      <td>1.000000e+05</td>\n",
       "      <td>0.0000</td>\n",
       "    </tr>\n",
       "    <tr>\n",
       "      <th>upper_quartile</th>\n",
       "      <td>4.50000</td>\n",
       "      <td>4.641600e+04</td>\n",
       "      <td>27.000000</td>\n",
       "      <td>1.000000e+06</td>\n",
       "      <td>0.0000</td>\n",
       "    </tr>\n",
       "    <tr>\n",
       "      <th>max</th>\n",
       "      <td>5.00000</td>\n",
       "      <td>7.815831e+07</td>\n",
       "      <td>100.000000</td>\n",
       "      <td>1.000000e+09</td>\n",
       "      <td>400.0000</td>\n",
       "    </tr>\n",
       "  </tbody>\n",
       "</table>\n",
       "</div>"
      ],
      "text/plain": [
       "                 Rating       Reviews        Size      Installs     Price\n",
       "missing_ratio   0.00000  0.000000e+00    0.000000  0.000000e+00    0.0000\n",
       "mean            4.18638  4.059046e+05   20.147291  1.415776e+07    1.0308\n",
       "min             1.00000  0.000000e+00    0.008301  0.000000e+00    0.0000\n",
       "lower_quartile  4.00000  3.200000e+01    5.400000  1.000000e+03    0.0000\n",
       "median          4.30000  1.680000e+03   12.000000  1.000000e+05    0.0000\n",
       "upper_quartile  4.50000  4.641600e+04   27.000000  1.000000e+06    0.0000\n",
       "max             5.00000  7.815831e+07  100.000000  1.000000e+09  400.0000"
      ]
     },
     "execution_count": 20,
     "metadata": {},
     "output_type": "execute_result"
    }
   ],
   "source": [
    "num_col_info_df = apps_df.select_dtypes(include='number')\n",
    "\n",
    "def missing_ratio(s):\n",
    "    return (s.isna().mean() * 100).round(1)\n",
    "\n",
    "def median(df):\n",
    "    return (df.quantile(0.5)).round(1)\n",
    "\n",
    "def lower_quartile(df):\n",
    "    return (df.quantile(0.25)).round(1)\n",
    "\n",
    "def upper_quartile(df):\n",
    "    return (df.quantile(0.75)).round(1)\n",
    "\n",
    "num_col_info_df = num_col_info_df.agg([missing_ratio, 'mean', 'min', lower_quartile, median, upper_quartile, 'max'])\n",
    "num_col_info_df"
   ]
  },
  {
   "cell_type": "markdown",
   "id": "e859066c",
   "metadata": {},
   "source": [
    "The data have nothing abnormal. However, there are some missing values with small ratio - smaller than 20%, so we're going to fill them.\n",
    "- For `Rating`, we would fill them with the mean of each `Category`, because the difference between *mean* and *median* is not significant.\n",
    "- For `Size`, we would fill them with the median of each `Category`, because the *mean* is very different from the *median*."
   ]
  },
  {
   "cell_type": "code",
   "execution_count": 16,
   "id": "ad3baafe",
   "metadata": {},
   "outputs": [],
   "source": [
    "apps_df['Rating'] = apps_df.groupby('Category')['Rating'].transform(lambda x: x.fillna(x.mean()))\n",
    "apps_df['Size'] = apps_df.groupby('Category')['Size'].transform(lambda x: x.fillna(x.median()))"
   ]
  },
  {
   "cell_type": "code",
   "execution_count": 18,
   "id": "44612766-97e1-4a38-b3ed-a818e349bcf2",
   "metadata": {},
   "outputs": [
    {
     "data": {
      "text/plain": [
       "App               0\n",
       "Category          0\n",
       "Rating            0\n",
       "Reviews           0\n",
       "Size              0\n",
       "Installs          0\n",
       "Type              1\n",
       "Price             0\n",
       "Content Rating    0\n",
       "Genres            0\n",
       "Last Updated      0\n",
       "Current Ver       8\n",
       "Android Ver       2\n",
       "dtype: int64"
      ]
     },
     "execution_count": 18,
     "metadata": {},
     "output_type": "execute_result"
    }
   ],
   "source": [
    "apps_df.isna().sum()"
   ]
  },
  {
   "cell_type": "code",
   "execution_count": 19,
   "id": "698a6369-024a-4679-9aa8-8cb7bf8cc532",
   "metadata": {},
   "outputs": [
    {
     "name": "stderr",
     "output_type": "stream",
     "text": [
      "/var/folders/5s/3t7kh6rn1_5_jk7f9tjf_zrh0000gn/T/ipykernel_96461/1514725508.py:1: FutureWarning: Treating datetime data as categorical rather than numeric in `.describe` is deprecated and will be removed in a future version of pandas. Specify `datetime_is_numeric=True` to silence this warning and adopt the future behavior now.\n",
      "  apps_df.describe(include='all')\n"
     ]
    },
    {
     "data": {
      "text/html": [
       "<div>\n",
       "<style scoped>\n",
       "    .dataframe tbody tr th:only-of-type {\n",
       "        vertical-align: middle;\n",
       "    }\n",
       "\n",
       "    .dataframe tbody tr th {\n",
       "        vertical-align: top;\n",
       "    }\n",
       "\n",
       "    .dataframe thead th {\n",
       "        text-align: right;\n",
       "    }\n",
       "</style>\n",
       "<table border=\"1\" class=\"dataframe\">\n",
       "  <thead>\n",
       "    <tr style=\"text-align: right;\">\n",
       "      <th></th>\n",
       "      <th>App</th>\n",
       "      <th>Category</th>\n",
       "      <th>Rating</th>\n",
       "      <th>Reviews</th>\n",
       "      <th>Size</th>\n",
       "      <th>Installs</th>\n",
       "      <th>Type</th>\n",
       "      <th>Price</th>\n",
       "      <th>Content Rating</th>\n",
       "      <th>Genres</th>\n",
       "      <th>Last Updated</th>\n",
       "      <th>Current Ver</th>\n",
       "      <th>Android Ver</th>\n",
       "    </tr>\n",
       "  </thead>\n",
       "  <tbody>\n",
       "    <tr>\n",
       "      <th>count</th>\n",
       "      <td>10357</td>\n",
       "      <td>10357</td>\n",
       "      <td>10357.000000</td>\n",
       "      <td>1.035700e+04</td>\n",
       "      <td>10357.000000</td>\n",
       "      <td>1.035700e+04</td>\n",
       "      <td>10356</td>\n",
       "      <td>10357.000000</td>\n",
       "      <td>10357</td>\n",
       "      <td>10357</td>\n",
       "      <td>10357</td>\n",
       "      <td>10349</td>\n",
       "      <td>10355</td>\n",
       "    </tr>\n",
       "    <tr>\n",
       "      <th>unique</th>\n",
       "      <td>9659</td>\n",
       "      <td>33</td>\n",
       "      <td>NaN</td>\n",
       "      <td>NaN</td>\n",
       "      <td>NaN</td>\n",
       "      <td>NaN</td>\n",
       "      <td>2</td>\n",
       "      <td>NaN</td>\n",
       "      <td>6</td>\n",
       "      <td>119</td>\n",
       "      <td>1377</td>\n",
       "      <td>2783</td>\n",
       "      <td>33</td>\n",
       "    </tr>\n",
       "    <tr>\n",
       "      <th>top</th>\n",
       "      <td>ROBLOX</td>\n",
       "      <td>FAMILY</td>\n",
       "      <td>NaN</td>\n",
       "      <td>NaN</td>\n",
       "      <td>NaN</td>\n",
       "      <td>NaN</td>\n",
       "      <td>Free</td>\n",
       "      <td>NaN</td>\n",
       "      <td>Everyone</td>\n",
       "      <td>Tools</td>\n",
       "      <td>2018-08-03 00:00:00</td>\n",
       "      <td>Varies with device</td>\n",
       "      <td>4.1 and up</td>\n",
       "    </tr>\n",
       "    <tr>\n",
       "      <th>freq</th>\n",
       "      <td>9</td>\n",
       "      <td>1943</td>\n",
       "      <td>NaN</td>\n",
       "      <td>NaN</td>\n",
       "      <td>NaN</td>\n",
       "      <td>NaN</td>\n",
       "      <td>9591</td>\n",
       "      <td>NaN</td>\n",
       "      <td>8382</td>\n",
       "      <td>842</td>\n",
       "      <td>298</td>\n",
       "      <td>1302</td>\n",
       "      <td>2379</td>\n",
       "    </tr>\n",
       "    <tr>\n",
       "      <th>first</th>\n",
       "      <td>NaN</td>\n",
       "      <td>NaN</td>\n",
       "      <td>NaN</td>\n",
       "      <td>NaN</td>\n",
       "      <td>NaN</td>\n",
       "      <td>NaN</td>\n",
       "      <td>NaN</td>\n",
       "      <td>NaN</td>\n",
       "      <td>NaN</td>\n",
       "      <td>NaN</td>\n",
       "      <td>2010-05-21 00:00:00</td>\n",
       "      <td>NaN</td>\n",
       "      <td>NaN</td>\n",
       "    </tr>\n",
       "    <tr>\n",
       "      <th>last</th>\n",
       "      <td>NaN</td>\n",
       "      <td>NaN</td>\n",
       "      <td>NaN</td>\n",
       "      <td>NaN</td>\n",
       "      <td>NaN</td>\n",
       "      <td>NaN</td>\n",
       "      <td>NaN</td>\n",
       "      <td>NaN</td>\n",
       "      <td>NaN</td>\n",
       "      <td>NaN</td>\n",
       "      <td>2018-08-08 00:00:00</td>\n",
       "      <td>NaN</td>\n",
       "      <td>NaN</td>\n",
       "    </tr>\n",
       "    <tr>\n",
       "      <th>mean</th>\n",
       "      <td>NaN</td>\n",
       "      <td>NaN</td>\n",
       "      <td>4.186380</td>\n",
       "      <td>4.059046e+05</td>\n",
       "      <td>20.147291</td>\n",
       "      <td>1.415776e+07</td>\n",
       "      <td>NaN</td>\n",
       "      <td>1.030800</td>\n",
       "      <td>NaN</td>\n",
       "      <td>NaN</td>\n",
       "      <td>NaN</td>\n",
       "      <td>NaN</td>\n",
       "      <td>NaN</td>\n",
       "    </tr>\n",
       "    <tr>\n",
       "      <th>std</th>\n",
       "      <td>NaN</td>\n",
       "      <td>NaN</td>\n",
       "      <td>0.485246</td>\n",
       "      <td>2.696778e+06</td>\n",
       "      <td>21.284104</td>\n",
       "      <td>8.023955e+07</td>\n",
       "      <td>NaN</td>\n",
       "      <td>16.278625</td>\n",
       "      <td>NaN</td>\n",
       "      <td>NaN</td>\n",
       "      <td>NaN</td>\n",
       "      <td>NaN</td>\n",
       "      <td>NaN</td>\n",
       "    </tr>\n",
       "    <tr>\n",
       "      <th>min</th>\n",
       "      <td>NaN</td>\n",
       "      <td>NaN</td>\n",
       "      <td>1.000000</td>\n",
       "      <td>0.000000e+00</td>\n",
       "      <td>0.008301</td>\n",
       "      <td>0.000000e+00</td>\n",
       "      <td>NaN</td>\n",
       "      <td>0.000000</td>\n",
       "      <td>NaN</td>\n",
       "      <td>NaN</td>\n",
       "      <td>NaN</td>\n",
       "      <td>NaN</td>\n",
       "      <td>NaN</td>\n",
       "    </tr>\n",
       "    <tr>\n",
       "      <th>25%</th>\n",
       "      <td>NaN</td>\n",
       "      <td>NaN</td>\n",
       "      <td>4.047411</td>\n",
       "      <td>3.200000e+01</td>\n",
       "      <td>5.400000</td>\n",
       "      <td>1.000000e+03</td>\n",
       "      <td>NaN</td>\n",
       "      <td>0.000000</td>\n",
       "      <td>NaN</td>\n",
       "      <td>NaN</td>\n",
       "      <td>NaN</td>\n",
       "      <td>NaN</td>\n",
       "      <td>NaN</td>\n",
       "    </tr>\n",
       "    <tr>\n",
       "      <th>50%</th>\n",
       "      <td>NaN</td>\n",
       "      <td>NaN</td>\n",
       "      <td>4.251485</td>\n",
       "      <td>1.680000e+03</td>\n",
       "      <td>12.000000</td>\n",
       "      <td>1.000000e+05</td>\n",
       "      <td>NaN</td>\n",
       "      <td>0.000000</td>\n",
       "      <td>NaN</td>\n",
       "      <td>NaN</td>\n",
       "      <td>NaN</td>\n",
       "      <td>NaN</td>\n",
       "      <td>NaN</td>\n",
       "    </tr>\n",
       "    <tr>\n",
       "      <th>75%</th>\n",
       "      <td>NaN</td>\n",
       "      <td>NaN</td>\n",
       "      <td>4.500000</td>\n",
       "      <td>4.641600e+04</td>\n",
       "      <td>27.000000</td>\n",
       "      <td>1.000000e+06</td>\n",
       "      <td>NaN</td>\n",
       "      <td>0.000000</td>\n",
       "      <td>NaN</td>\n",
       "      <td>NaN</td>\n",
       "      <td>NaN</td>\n",
       "      <td>NaN</td>\n",
       "      <td>NaN</td>\n",
       "    </tr>\n",
       "    <tr>\n",
       "      <th>max</th>\n",
       "      <td>NaN</td>\n",
       "      <td>NaN</td>\n",
       "      <td>5.000000</td>\n",
       "      <td>7.815831e+07</td>\n",
       "      <td>100.000000</td>\n",
       "      <td>1.000000e+09</td>\n",
       "      <td>NaN</td>\n",
       "      <td>400.000000</td>\n",
       "      <td>NaN</td>\n",
       "      <td>NaN</td>\n",
       "      <td>NaN</td>\n",
       "      <td>NaN</td>\n",
       "      <td>NaN</td>\n",
       "    </tr>\n",
       "  </tbody>\n",
       "</table>\n",
       "</div>"
      ],
      "text/plain": [
       "           App Category        Rating       Reviews          Size  \\\n",
       "count    10357    10357  10357.000000  1.035700e+04  10357.000000   \n",
       "unique    9659       33           NaN           NaN           NaN   \n",
       "top     ROBLOX   FAMILY           NaN           NaN           NaN   \n",
       "freq         9     1943           NaN           NaN           NaN   \n",
       "first      NaN      NaN           NaN           NaN           NaN   \n",
       "last       NaN      NaN           NaN           NaN           NaN   \n",
       "mean       NaN      NaN      4.186380  4.059046e+05     20.147291   \n",
       "std        NaN      NaN      0.485246  2.696778e+06     21.284104   \n",
       "min        NaN      NaN      1.000000  0.000000e+00      0.008301   \n",
       "25%        NaN      NaN      4.047411  3.200000e+01      5.400000   \n",
       "50%        NaN      NaN      4.251485  1.680000e+03     12.000000   \n",
       "75%        NaN      NaN      4.500000  4.641600e+04     27.000000   \n",
       "max        NaN      NaN      5.000000  7.815831e+07    100.000000   \n",
       "\n",
       "            Installs   Type         Price Content Rating Genres  \\\n",
       "count   1.035700e+04  10356  10357.000000          10357  10357   \n",
       "unique           NaN      2           NaN              6    119   \n",
       "top              NaN   Free           NaN       Everyone  Tools   \n",
       "freq             NaN   9591           NaN           8382    842   \n",
       "first            NaN    NaN           NaN            NaN    NaN   \n",
       "last             NaN    NaN           NaN            NaN    NaN   \n",
       "mean    1.415776e+07    NaN      1.030800            NaN    NaN   \n",
       "std     8.023955e+07    NaN     16.278625            NaN    NaN   \n",
       "min     0.000000e+00    NaN      0.000000            NaN    NaN   \n",
       "25%     1.000000e+03    NaN      0.000000            NaN    NaN   \n",
       "50%     1.000000e+05    NaN      0.000000            NaN    NaN   \n",
       "75%     1.000000e+06    NaN      0.000000            NaN    NaN   \n",
       "max     1.000000e+09    NaN    400.000000            NaN    NaN   \n",
       "\n",
       "               Last Updated         Current Ver Android Ver  \n",
       "count                 10357               10349       10355  \n",
       "unique                 1377                2783          33  \n",
       "top     2018-08-03 00:00:00  Varies with device  4.1 and up  \n",
       "freq                    298                1302        2379  \n",
       "first   2010-05-21 00:00:00                 NaN         NaN  \n",
       "last    2018-08-08 00:00:00                 NaN         NaN  \n",
       "mean                    NaN                 NaN         NaN  \n",
       "std                     NaN                 NaN         NaN  \n",
       "min                     NaN                 NaN         NaN  \n",
       "25%                     NaN                 NaN         NaN  \n",
       "50%                     NaN                 NaN         NaN  \n",
       "75%                     NaN                 NaN         NaN  \n",
       "max                     NaN                 NaN         NaN  "
      ]
     },
     "execution_count": 19,
     "metadata": {},
     "output_type": "execute_result"
    }
   ],
   "source": [
    "apps_df.describe(include='all')"
   ]
  }
 ],
 "metadata": {
  "kernelspec": {
   "display_name": "Python 3 (ipykernel)",
   "language": "python",
   "name": "python3"
  },
  "language_info": {
   "codemirror_mode": {
    "name": "ipython",
    "version": 3
   },
   "file_extension": ".py",
   "mimetype": "text/x-python",
   "name": "python",
   "nbconvert_exporter": "python",
   "pygments_lexer": "ipython3",
   "version": "3.10.8"
  }
 },
 "nbformat": 4,
 "nbformat_minor": 5
}
