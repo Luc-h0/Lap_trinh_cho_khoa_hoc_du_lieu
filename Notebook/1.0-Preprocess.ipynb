{
 "cells": [
  {
   "cell_type": "markdown",
   "id": "0e0c773f-c109-47f7-b2f4-d7b55ecbd429",
   "metadata": {},
   "source": [
    "<div style=\"text-align: center; background-color: #559cff; font-family: 'Trebuchet MS', Arial, sans-serif; color: white; padding: 20px; font-size: 40px; font-weight: bold; border-radius: 0 0 0 0; box-shadow: 0px 6px 8px rgba(0, 0, 0, 0.2);\">\n",
    " Final Project -Programming for  Data Science @ FIT-HCMUS, VNU-HCM 📌\n",
    "</div>"
   ]
  },
  {
   "cell_type": "markdown",
   "id": "b0cf7450",
   "metadata": {},
   "source": [
    "<div style=\"text-align: center; background-color: #b1d1ff; font-family: 'Trebuchet MS', Arial, sans-serif; color: white; padding: 20px; font-size: 30px; font-weight: bold; border-radius: 0 0 0 0; box-shadow: 0px 6px 8px rgba(0, 0, 0, 0.2);\">\n",
    "  TOPIC: ANALYSIS ON GOOGLE PLAY STORE APP\n",
    "</div>"
   ]
  },
  {
   "cell_type": "markdown",
   "id": "1bf7271e-7d34-4df5-9186-ccf4183543f9",
   "metadata": {},
   "source": [
    "<div style=\"text-align: center; font-family: 'Trebuchet MS', Arial, sans-serif; padding: 20px; font-size: 25px; font-weight: bold; border-radius: 0 0 0 0\">\n",
    "  Stage 1: Collecting and Preprocessing\n",
    "</div>"
   ]
  },
  {
   "cell_type": "markdown",
   "id": "df6fcaa6-425a-49b9-9ab7-74f5938f1cf0",
   "metadata": {},
   "source": [
    "# **A - Introduction**"
   ]
  },
  {
   "cell_type": "markdown",
   "id": "14fc5a42-44c7-4049-9826-509c4ae04702",
   "metadata": {},
   "source": [
    "**STUDENT INFORMATION:**\n",
    "- 21127038 - Võ Phú Hãn\n",
    "- 21127351 - Hồ Đinh Duy Lực\n"
   ]
  },
  {
   "cell_type": "markdown",
   "id": "72f54b63-2f8c-4f88-ada5-6237fd275d24",
   "metadata": {},
   "source": [
    "**OVERVIEW OF THE TOPIC:**\n",
    "\n",
    "Analyzing Google Play Store apps is crucial for several reasons. It provides valuable insights into app trends, user preferences, and market dynamics. This data can help developers understand what types of apps are successful, which features users find most appealing, and how to price their apps effectively. Additionally, analysis can reveal patterns in user reviews and ratings, helping developers improve their apps based on user feedback. For businesses and marketers, this analysis can guide advertising strategies and help target the right audience. Therefore, Google Play Store app analysis plays a vital role in app development, marketing, and user experience enhancement.\n"
   ]
  },
  {
   "cell_type": "markdown",
   "id": "095fc83f-5ecc-4004-9672-83d4484cc311",
   "metadata": {},
   "source": [
    "# **B - Description**"
   ]
  },
  {
   "cell_type": "markdown",
   "id": "3b92c0af",
   "metadata": {},
   "source": [
    "## I. About Dataset\n",
    "\n",
    "\n",
    "**DATASET INFORMATION:**\n",
    "\n",
    "- Context: While many public datasets (on Kaggle and the like) provide Apple App Store data, there are not many counterpart datasets available for Google Play Store apps anywhere on the web. On digging deeper, I found out that iTunes App Store page deploys a nicely indexed appendix-like structure to allow for simple and easy web scraping. On the other hand, Google Play Store uses sophisticated modern-day techniques (like dynamic page load) using JQuery making scraping more challenging.\n",
    "- Source: [Dataset source](https://www.kaggle.com/datasets/lava18/google-play-store-apps/)\n",
    "- License: Unknown\n",
    "- How to collect data: This information is scraped from the Google Play Store. This app information would not be available without it.\n",
    "- Inspiration: The Play Store apps data has enormous potential to drive app-making businesses to success. Actionable insights can be drawn for developers to work on and capture the Android market!\n",
    "- DATA UPDATED 5 YEARS AGO"
   ]
  },
  {
   "cell_type": "markdown",
   "id": "d3f4b565-8a6f-471a-a94e-2ee11599c4cf",
   "metadata": {},
   "source": [
    "## II. About Columns\n",
    "### The dataset contains the following 13 columns: \n",
    "\n",
    "<div style=\"text-align: center; font-family: 'Trebuchet MS', Arial, sans-serif; padding: 10px; font-size: 25px; font-weight: bold; border-radius: 0 0 0 0\">\n",
    "  Columns descriptions:\n",
    "</div>\n",
    "\n",
    "\n",
    "| Column | Meaning |\n",
    "| --- | --- |\n",
    "| **App** | Name of the app |\n",
    "| **Category** | Category of the app. Some examples are: ART_AND_DESIGN, FINANCE, COMICS, BEAUTY etc. |\n",
    "| **Rating** | The current average rating (out of 5) of the app on Google Play |\n",
    "| **Reviews** | Number of user reviews given on the app |\n",
    "| **Size** | Size of the app in MB (megabytes) |\n",
    "| **Installs** | Number of times the app was downloaded from Google Play |\n",
    "| **Type** | Whether the app is paid or free |\n",
    "| **Price** | Price of the app in US$ |\n",
    "| **Content Rating** | Subject the app aim to |\n",
    "| **Genres** | Type of the application |\n",
    "| **Last Updated** | Date on which the app was last updated on Google Play |\n",
    "| **Current Ver** | Newest version that has been released by the publisher |\n",
    "| **Android Ver** | The configuration that devices need in order to work properly |\n",
    "\n",
    "## III. About Rows\n",
    "Each app (row) has values for catergory, rating, size, and more."
   ]
  },
  {
   "cell_type": "markdown",
   "id": "6c4ee3da-d66c-4688-a361-83f02335da82",
   "metadata": {},
   "source": [
    "# **C - Data Exploration - Preprocessing**\n"
   ]
  },
  {
   "cell_type": "markdown",
   "id": "45f57dc9-ac49-4ad5-a730-6bc686ba69ea",
   "metadata": {},
   "source": [
    "## I. Import Library"
   ]
  },
  {
   "cell_type": "code",
   "execution_count": 1,
   "id": "f469d4cb-7e65-4e0a-8972-9ba49284bdd7",
   "metadata": {},
   "outputs": [],
   "source": [
    "import pandas as pd\n",
    "import numpy as np\n",
    "import matplotlib.pyplot as plt\n",
    "%matplotlib inline\n",
    "\n",
    "# import warnings\n",
    "# warnings.filterwarnings('ignore')"
   ]
  },
  {
   "cell_type": "markdown",
   "id": "56f20562-3d07-43ab-afe1-fcb7575727b6",
   "metadata": {},
   "source": [
    "## II. Exploring data"
   ]
  },
  {
   "cell_type": "markdown",
   "id": "48d60503",
   "metadata": {},
   "source": [
    "Read raw data from file"
   ]
  },
  {
   "cell_type": "code",
   "execution_count": 2,
   "id": "bfaa9b8e-cc4a-45bc-bf7a-37023acb3611",
   "metadata": {},
   "outputs": [],
   "source": [
    "apps_df = pd.read_csv(\"../Data/Raw/googleplaystore.csv\")\n",
    "reviews_df = pd.read_csv(\"../Data/Raw/googleplaystore_user_reviews.csv\")"
   ]
  },
  {
   "cell_type": "markdown",
   "id": "7cb9e777",
   "metadata": {},
   "source": [
    "### 1. Exploring on `apps_df`"
   ]
  },
  {
   "cell_type": "markdown",
   "id": "b99305e0",
   "metadata": {},
   "source": [
    "#### 1.1. Viewing the first five rows"
   ]
  },
  {
   "cell_type": "code",
   "execution_count": 3,
   "id": "5e39c087",
   "metadata": {},
   "outputs": [
    {
     "data": {
      "text/html": [
       "<div>\n",
       "<style scoped>\n",
       "    .dataframe tbody tr th:only-of-type {\n",
       "        vertical-align: middle;\n",
       "    }\n",
       "\n",
       "    .dataframe tbody tr th {\n",
       "        vertical-align: top;\n",
       "    }\n",
       "\n",
       "    .dataframe thead th {\n",
       "        text-align: right;\n",
       "    }\n",
       "</style>\n",
       "<table border=\"1\" class=\"dataframe\">\n",
       "  <thead>\n",
       "    <tr style=\"text-align: right;\">\n",
       "      <th></th>\n",
       "      <th>App</th>\n",
       "      <th>Category</th>\n",
       "      <th>Rating</th>\n",
       "      <th>Reviews</th>\n",
       "      <th>Size</th>\n",
       "      <th>Installs</th>\n",
       "      <th>Type</th>\n",
       "      <th>Price</th>\n",
       "      <th>Content Rating</th>\n",
       "      <th>Genres</th>\n",
       "      <th>Last Updated</th>\n",
       "      <th>Current Ver</th>\n",
       "      <th>Android Ver</th>\n",
       "    </tr>\n",
       "  </thead>\n",
       "  <tbody>\n",
       "    <tr>\n",
       "      <th>0</th>\n",
       "      <td>Photo Editor &amp; Candy Camera &amp; Grid &amp; ScrapBook</td>\n",
       "      <td>ART_AND_DESIGN</td>\n",
       "      <td>4.1</td>\n",
       "      <td>159</td>\n",
       "      <td>19M</td>\n",
       "      <td>10,000+</td>\n",
       "      <td>Free</td>\n",
       "      <td>0</td>\n",
       "      <td>Everyone</td>\n",
       "      <td>Art &amp; Design</td>\n",
       "      <td>7-Jan-18</td>\n",
       "      <td>1.0.0</td>\n",
       "      <td>4.0.3 and up</td>\n",
       "    </tr>\n",
       "    <tr>\n",
       "      <th>1</th>\n",
       "      <td>Coloring book moana</td>\n",
       "      <td>ART_AND_DESIGN</td>\n",
       "      <td>3.9</td>\n",
       "      <td>967</td>\n",
       "      <td>14M</td>\n",
       "      <td>500,000+</td>\n",
       "      <td>Free</td>\n",
       "      <td>0</td>\n",
       "      <td>Everyone</td>\n",
       "      <td>Art &amp; Design;Pretend Play</td>\n",
       "      <td>15-Jan-18</td>\n",
       "      <td>2.0.0</td>\n",
       "      <td>4.0.3 and up</td>\n",
       "    </tr>\n",
       "    <tr>\n",
       "      <th>2</th>\n",
       "      <td>U Launcher Lite – FREE Live Cool Themes, Hide ...</td>\n",
       "      <td>ART_AND_DESIGN</td>\n",
       "      <td>4.7</td>\n",
       "      <td>87510</td>\n",
       "      <td>8.7M</td>\n",
       "      <td>5,000,000+</td>\n",
       "      <td>Free</td>\n",
       "      <td>0</td>\n",
       "      <td>Everyone</td>\n",
       "      <td>Art &amp; Design</td>\n",
       "      <td>1-Aug-18</td>\n",
       "      <td>1.2.4</td>\n",
       "      <td>4.0.3 and up</td>\n",
       "    </tr>\n",
       "    <tr>\n",
       "      <th>3</th>\n",
       "      <td>Sketch - Draw &amp; Paint</td>\n",
       "      <td>ART_AND_DESIGN</td>\n",
       "      <td>4.5</td>\n",
       "      <td>215644</td>\n",
       "      <td>25M</td>\n",
       "      <td>50,000,000+</td>\n",
       "      <td>Free</td>\n",
       "      <td>0</td>\n",
       "      <td>Teen</td>\n",
       "      <td>Art &amp; Design</td>\n",
       "      <td>8-Jun-18</td>\n",
       "      <td>Varies with device</td>\n",
       "      <td>4.2 and up</td>\n",
       "    </tr>\n",
       "    <tr>\n",
       "      <th>4</th>\n",
       "      <td>Pixel Draw - Number Art Coloring Book</td>\n",
       "      <td>ART_AND_DESIGN</td>\n",
       "      <td>4.3</td>\n",
       "      <td>967</td>\n",
       "      <td>2.8M</td>\n",
       "      <td>100,000+</td>\n",
       "      <td>Free</td>\n",
       "      <td>0</td>\n",
       "      <td>Everyone</td>\n",
       "      <td>Art &amp; Design;Creativity</td>\n",
       "      <td>20-Jun-18</td>\n",
       "      <td>1.1</td>\n",
       "      <td>4.4 and up</td>\n",
       "    </tr>\n",
       "  </tbody>\n",
       "</table>\n",
       "</div>"
      ],
      "text/plain": [
       "                                                 App        Category  Rating  \\\n",
       "0     Photo Editor & Candy Camera & Grid & ScrapBook  ART_AND_DESIGN     4.1   \n",
       "1                                Coloring book moana  ART_AND_DESIGN     3.9   \n",
       "2  U Launcher Lite – FREE Live Cool Themes, Hide ...  ART_AND_DESIGN     4.7   \n",
       "3                              Sketch - Draw & Paint  ART_AND_DESIGN     4.5   \n",
       "4              Pixel Draw - Number Art Coloring Book  ART_AND_DESIGN     4.3   \n",
       "\n",
       "   Reviews  Size     Installs  Type Price Content Rating  \\\n",
       "0      159   19M      10,000+  Free     0       Everyone   \n",
       "1      967   14M     500,000+  Free     0       Everyone   \n",
       "2    87510  8.7M   5,000,000+  Free     0       Everyone   \n",
       "3   215644   25M  50,000,000+  Free     0           Teen   \n",
       "4      967  2.8M     100,000+  Free     0       Everyone   \n",
       "\n",
       "                      Genres Last Updated         Current Ver   Android Ver  \n",
       "0               Art & Design     7-Jan-18               1.0.0  4.0.3 and up  \n",
       "1  Art & Design;Pretend Play    15-Jan-18               2.0.0  4.0.3 and up  \n",
       "2               Art & Design     1-Aug-18               1.2.4  4.0.3 and up  \n",
       "3               Art & Design     8-Jun-18  Varies with device    4.2 and up  \n",
       "4    Art & Design;Creativity    20-Jun-18                 1.1    4.4 and up  "
      ]
     },
     "execution_count": 3,
     "metadata": {},
     "output_type": "execute_result"
    }
   ],
   "source": [
    "apps_df.head(5)"
   ]
  },
  {
   "cell_type": "markdown",
   "id": "07a4f108-ee1f-43f8-a13c-5cebf1c0f27b",
   "metadata": {},
   "source": [
    "#### 1.2. Viewing the column names"
   ]
  },
  {
   "cell_type": "code",
   "execution_count": 4,
   "id": "a99c2a5b-9e62-4a52-a42e-27d8e4430917",
   "metadata": {},
   "outputs": [
    {
     "name": "stdout",
     "output_type": "stream",
     "text": [
      "The Names of the Columns are as follows: ['App', 'Category', 'Rating', 'Reviews', 'Size', 'Installs', 'Type', 'Price', 'Content Rating', 'Genres', 'Last Updated', 'Current Ver', 'Android Ver']\n"
     ]
    }
   ],
   "source": [
    "# Viewing the Column names\n",
    "print(f\"The Names of the Columns are as follows: {apps_df.columns.to_list()}\")"
   ]
  },
  {
   "cell_type": "markdown",
   "id": "03fd2486",
   "metadata": {},
   "source": [
    "#### 1.3. How many rows and how many columns?"
   ]
  },
  {
   "cell_type": "code",
   "execution_count": 5,
   "id": "e65f88e7-6acc-40f8-8c2a-e194657823c2",
   "metadata": {},
   "outputs": [
    {
     "name": "stdout",
     "output_type": "stream",
     "text": [
      "Number of rows: 10840\n",
      "Number of columns: 13\n"
     ]
    }
   ],
   "source": [
    "# Shape of apps_df\n",
    "apps_shape = apps_df.shape\n",
    "print(f'Number of rows: {apps_shape[0]}')\n",
    "print(f'Number of columns: {apps_shape[1]}')"
   ]
  },
  {
   "cell_type": "markdown",
   "id": "d3d6495c",
   "metadata": {},
   "source": [
    "Each row contains information of an application on Google Play Store."
   ]
  },
  {
   "cell_type": "markdown",
   "id": "3b194640",
   "metadata": {},
   "source": [
    "#### 1.4. Are there duplicated rows?"
   ]
  },
  {
   "cell_type": "code",
   "execution_count": 6,
   "id": "c5a1ff79",
   "metadata": {},
   "outputs": [
    {
     "name": "stdout",
     "output_type": "stream",
     "text": [
      "The data have 1181 duplicated rows\n"
     ]
    }
   ],
   "source": [
    "app = apps_df['App']\n",
    "detectDupApps = app.duplicated(keep='first')\n",
    "# detectDupSeries = apps_df.duplicated(keep='first')\n",
    "num_duplicated_rows = detectDupApps.sum()\n",
    "print(f'The data have {num_duplicated_rows} duplicated rows')"
   ]
  },
  {
   "cell_type": "markdown",
   "id": "e706963a",
   "metadata": {},
   "source": [
    "So we're going to drop duplicated rows."
   ]
  },
  {
   "cell_type": "code",
   "execution_count": 7,
   "id": "d01ea2b8",
   "metadata": {},
   "outputs": [
    {
     "data": {
      "text/plain": [
       "(9659, 13)"
      ]
     },
     "execution_count": 7,
     "metadata": {},
     "output_type": "execute_result"
    }
   ],
   "source": [
    "apps_df.drop_duplicates(subset='App', keep='first', inplace=True)\n",
    "# apps_df.drop_duplicates(keep='first', inplace=True)\n",
    "apps_df.shape"
   ]
  },
  {
   "cell_type": "markdown",
   "id": "f56ac4ec-13bc-4d99-9271-0d2a271b37e5",
   "metadata": {},
   "source": [
    "####  1.5. What is the current data type of each column? Are there columns having inappropriate data types?"
   ]
  },
  {
   "cell_type": "code",
   "execution_count": 8,
   "id": "6f319526",
   "metadata": {},
   "outputs": [
    {
     "data": {
      "text/plain": [
       "App                object\n",
       "Category           object\n",
       "Rating            float64\n",
       "Reviews             int64\n",
       "Size               object\n",
       "Installs           object\n",
       "Type               object\n",
       "Price              object\n",
       "Content Rating     object\n",
       "Genres             object\n",
       "Last Updated       object\n",
       "Current Ver        object\n",
       "Android Ver        object\n",
       "dtype: object"
      ]
     },
     "execution_count": 8,
     "metadata": {},
     "output_type": "execute_result"
    }
   ],
   "source": [
    "apps_df.dtypes"
   ]
  },
  {
   "cell_type": "markdown",
   "id": "00bb7ac7",
   "metadata": {},
   "source": [
    "We observe that `Installs`, `Price`, `Size` should have *numeric* datatype and `Last Updated` should has *datetime* datatype."
   ]
  },
  {
   "cell_type": "markdown",
   "id": "25975ba4",
   "metadata": {},
   "source": [
    "##### **Preprocessing on `Install`**"
   ]
  },
  {
   "cell_type": "markdown",
   "id": "5a162e7d",
   "metadata": {},
   "source": [
    "First, we will remove non-digit charater in `Installs` column, then, convert them to *numeric*."
   ]
  },
  {
   "cell_type": "code",
   "execution_count": 9,
   "id": "9ea49647",
   "metadata": {},
   "outputs": [],
   "source": [
    "apps_df['Installs'] = apps_df['Installs'].str.replace(r'\\D', '', regex=True)\n",
    "apps_df['Installs'] = pd.to_numeric(apps_df['Installs'], errors='raise')"
   ]
  },
  {
   "cell_type": "markdown",
   "id": "15a26201",
   "metadata": {},
   "source": [
    "##### **Preprocessing on `Price`**"
   ]
  },
  {
   "cell_type": "markdown",
   "id": "999257b2",
   "metadata": {},
   "source": [
    "In `Price` column, first, we'll find out what make them become *non-numeric*."
   ]
  },
  {
   "cell_type": "code",
   "execution_count": 10,
   "id": "3356af44",
   "metadata": {},
   "outputs": [
    {
     "data": {
      "text/plain": [
       "234       $4.99 \n",
       "235       $4.99 \n",
       "427       $3.99 \n",
       "476       $3.99 \n",
       "477       $6.99 \n",
       "          ...   \n",
       "10734     $0.99 \n",
       "10759     $7.99 \n",
       "10781    $16.99 \n",
       "10784     $1.20 \n",
       "10797     $1.04 \n",
       "Name: Price, Length: 756, dtype: object"
      ]
     },
     "execution_count": 10,
     "metadata": {},
     "output_type": "execute_result"
    }
   ],
   "source": [
    "price_series = apps_df['Price']\n",
    "strange_data = price_series[~price_series.str.isnumeric()]\n",
    "strange_data"
   ]
  },
  {
   "cell_type": "markdown",
   "id": "0a38012f",
   "metadata": {},
   "source": [
    "At first, we predict that the '$' at the head makes them become strings. Eliminating this character does not affecting our dataset, so we should remove them. However, to be more carefully, we would check whether there are any non-number characters in this column. "
   ]
  },
  {
   "cell_type": "code",
   "execution_count": 11,
   "id": "cf2fe18a",
   "metadata": {},
   "outputs": [
    {
     "data": {
      "text/plain": [
       "Series([], Name: Price, dtype: object)"
      ]
     },
     "execution_count": 11,
     "metadata": {},
     "output_type": "execute_result"
    }
   ],
   "source": [
    "strange_data[~strange_data.str.contains(r'\\$')]"
   ]
  },
  {
   "cell_type": "markdown",
   "id": "e360fbe5",
   "metadata": {},
   "source": [
    "Now, we see all problems that make the column *non-numeric*. We'll handle them."
   ]
  },
  {
   "cell_type": "code",
   "execution_count": 12,
   "id": "a31735de",
   "metadata": {},
   "outputs": [],
   "source": [
    "apps_df['Price'] = apps_df['Price'].str.replace(r'\\$', '', regex=True)\n",
    "apps_df['Price'] = pd.to_numeric(apps_df['Price'], errors='raise')"
   ]
  },
  {
   "cell_type": "markdown",
   "id": "268403dd",
   "metadata": {},
   "source": [
    "##### **Preprocessing on `Size`**"
   ]
  },
  {
   "cell_type": "markdown",
   "id": "fecf8e6f",
   "metadata": {},
   "source": [
    "To pre-process `Size`, we would split the size number and their unit to new column. Then, we would scale them into the same unit (M) because some apps have size value in 'k' instead of 'M'"
   ]
  },
  {
   "cell_type": "code",
   "execution_count": 13,
   "id": "b3a7849a",
   "metadata": {},
   "outputs": [],
   "source": [
    "def SizeUnit(str): # return the unit of size\n",
    "    if str[-1] == 'M':\n",
    "        return 'M'\n",
    "    elif str[-1] == 'k':\n",
    "        return 'k'\n",
    "    elif str == 'Varies with device':\n",
    "        return 'Varies with device'\n",
    "\n",
    "# create new column to store size unit\n",
    "apps_df['Size Unit'] = apps_df['Size'].apply(lambda x: SizeUnit(x))\n",
    "# remove unit attached to size\n",
    "apps_df['Size'] = apps_df['Size'].apply(lambda x: x[:-1])\n",
    "# replace unclear size by nan\n",
    "apps_df['Size'] = apps_df['Size'].replace('Varies with devic', np.nan)\n",
    "\n",
    "# change all value to the same scale\n",
    "apps_df['Size'] = pd.to_numeric(apps_df['Size'], errors='raise')\n",
    "apps_df['Size'] = np.where(apps_df['Size Unit'] == 'k', apps_df['Size']/1024, apps_df['Size'])\n",
    "\n",
    "# drop 'Size Unit' because it is no longer neccessary\n",
    "apps_df.drop(columns='Size Unit', inplace=True)"
   ]
  },
  {
   "cell_type": "markdown",
   "id": "e898b4e0",
   "metadata": {},
   "source": [
    "##### **Preprocessing on `Last Updated`**"
   ]
  },
  {
   "cell_type": "markdown",
   "id": "64780b05",
   "metadata": {},
   "source": [
    "We would convert `Last Updated` to *datetime*."
   ]
  },
  {
   "cell_type": "code",
   "execution_count": 14,
   "id": "39d76d85",
   "metadata": {},
   "outputs": [],
   "source": [
    "apps_df['Last Updated'] = pd.to_datetime(apps_df['Last Updated'], format=\"%d-%b-%y\", errors='raise')"
   ]
  },
  {
   "cell_type": "markdown",
   "id": "77eedb67",
   "metadata": {},
   "source": [
    "##### **Double check on data type.**"
   ]
  },
  {
   "cell_type": "code",
   "execution_count": 15,
   "id": "648900c2",
   "metadata": {},
   "outputs": [
    {
     "data": {
      "text/plain": [
       "App                       object\n",
       "Category                  object\n",
       "Rating                   float64\n",
       "Reviews                    int64\n",
       "Size                     float64\n",
       "Installs                   int64\n",
       "Type                      object\n",
       "Price                    float64\n",
       "Content Rating            object\n",
       "Genres                    object\n",
       "Last Updated      datetime64[ns]\n",
       "Current Ver               object\n",
       "Android Ver               object\n",
       "dtype: object"
      ]
     },
     "execution_count": 15,
     "metadata": {},
     "output_type": "execute_result"
    }
   ],
   "source": [
    "apps_df.dtypes"
   ]
  },
  {
   "cell_type": "markdown",
   "id": "47de6f5e",
   "metadata": {},
   "source": [
    "Now, they seem to have the appropriate datatype for analysing!!!"
   ]
  },
  {
   "cell_type": "markdown",
   "id": "e4760f85",
   "metadata": {},
   "source": [
    "#### 1.6. With each numerical column, how are values distributed?"
   ]
  },
  {
   "cell_type": "code",
   "execution_count": 16,
   "id": "c2f54ddf",
   "metadata": {},
   "outputs": [
    {
     "data": {
      "text/html": [
       "<div>\n",
       "<style scoped>\n",
       "    .dataframe tbody tr th:only-of-type {\n",
       "        vertical-align: middle;\n",
       "    }\n",
       "\n",
       "    .dataframe tbody tr th {\n",
       "        vertical-align: top;\n",
       "    }\n",
       "\n",
       "    .dataframe thead th {\n",
       "        text-align: right;\n",
       "    }\n",
       "</style>\n",
       "<table border=\"1\" class=\"dataframe\">\n",
       "  <thead>\n",
       "    <tr style=\"text-align: right;\">\n",
       "      <th></th>\n",
       "      <th>Rating</th>\n",
       "      <th>Reviews</th>\n",
       "      <th>Size</th>\n",
       "      <th>Installs</th>\n",
       "      <th>Price</th>\n",
       "    </tr>\n",
       "  </thead>\n",
       "  <tbody>\n",
       "    <tr>\n",
       "      <th>missing_ratio</th>\n",
       "      <td>15.100000</td>\n",
       "      <td>0.000000e+00</td>\n",
       "      <td>12.700000</td>\n",
       "      <td>0.000000e+00</td>\n",
       "      <td>0.000000</td>\n",
       "    </tr>\n",
       "    <tr>\n",
       "      <th>mean</th>\n",
       "      <td>4.173243</td>\n",
       "      <td>2.165926e+05</td>\n",
       "      <td>20.394897</td>\n",
       "      <td>7.777507e+06</td>\n",
       "      <td>1.099299</td>\n",
       "    </tr>\n",
       "    <tr>\n",
       "      <th>min</th>\n",
       "      <td>1.000000</td>\n",
       "      <td>0.000000e+00</td>\n",
       "      <td>0.008301</td>\n",
       "      <td>0.000000e+00</td>\n",
       "      <td>0.000000</td>\n",
       "    </tr>\n",
       "    <tr>\n",
       "      <th>lower_quartile</th>\n",
       "      <td>4.000000</td>\n",
       "      <td>2.500000e+01</td>\n",
       "      <td>4.600000</td>\n",
       "      <td>1.000000e+03</td>\n",
       "      <td>0.000000</td>\n",
       "    </tr>\n",
       "    <tr>\n",
       "      <th>median</th>\n",
       "      <td>4.300000</td>\n",
       "      <td>9.670000e+02</td>\n",
       "      <td>12.000000</td>\n",
       "      <td>1.000000e+05</td>\n",
       "      <td>0.000000</td>\n",
       "    </tr>\n",
       "    <tr>\n",
       "      <th>upper_quartile</th>\n",
       "      <td>4.500000</td>\n",
       "      <td>2.940100e+04</td>\n",
       "      <td>28.000000</td>\n",
       "      <td>1.000000e+06</td>\n",
       "      <td>0.000000</td>\n",
       "    </tr>\n",
       "    <tr>\n",
       "      <th>max</th>\n",
       "      <td>5.000000</td>\n",
       "      <td>7.815831e+07</td>\n",
       "      <td>100.000000</td>\n",
       "      <td>1.000000e+09</td>\n",
       "      <td>400.000000</td>\n",
       "    </tr>\n",
       "  </tbody>\n",
       "</table>\n",
       "</div>"
      ],
      "text/plain": [
       "                   Rating       Reviews        Size      Installs       Price\n",
       "missing_ratio   15.100000  0.000000e+00   12.700000  0.000000e+00    0.000000\n",
       "mean             4.173243  2.165926e+05   20.394897  7.777507e+06    1.099299\n",
       "min              1.000000  0.000000e+00    0.008301  0.000000e+00    0.000000\n",
       "lower_quartile   4.000000  2.500000e+01    4.600000  1.000000e+03    0.000000\n",
       "median           4.300000  9.670000e+02   12.000000  1.000000e+05    0.000000\n",
       "upper_quartile   4.500000  2.940100e+04   28.000000  1.000000e+06    0.000000\n",
       "max              5.000000  7.815831e+07  100.000000  1.000000e+09  400.000000"
      ]
     },
     "execution_count": 16,
     "metadata": {},
     "output_type": "execute_result"
    }
   ],
   "source": [
    "num_col_df = apps_df.select_dtypes(include='number')\n",
    "\n",
    "def missing_ratio(s):\n",
    "    return (s.isna().mean() * 100).round(1)\n",
    "\n",
    "def median(df):\n",
    "    return (df.quantile(0.5)).round(1)\n",
    "\n",
    "def lower_quartile(df):\n",
    "    return (df.quantile(0.25)).round(1)\n",
    "\n",
    "def upper_quartile(df):\n",
    "    return (df.quantile(0.75)).round(1)\n",
    "\n",
    "num_col_info_df = num_col_df.agg([missing_ratio, 'mean', 'min', lower_quartile, median, upper_quartile, 'max'])\n",
    "num_col_info_df"
   ]
  },
  {
   "cell_type": "code",
   "execution_count": 17,
   "id": "12da870a",
   "metadata": {},
   "outputs": [
    {
     "data": {
      "image/png": "[encoded data removed]",
      "text/plain": [
       "<Figure size 1500x800 with 5 Axes>"
      ]
     },
     "metadata": {},
     "output_type": "display_data"
    }
   ],
   "source": [
    "# visualize the distribution\n",
    "fig, axes = plt.subplots(2, 3, figsize=(15, 8))\n",
    "fig.delaxes(axes[1, 2])\n",
    "for col, ax in zip(num_col_df, axes.ravel()):\n",
    "    num_col_df[col].plot.box(ax=ax, grid=True)"
   ]
  },
  {
   "cell_type": "markdown",
   "id": "e859066c",
   "metadata": {},
   "source": [
    "The data have nothing abnormal. However, there are some missing values with small ratios - smaller than 20%, so we're going to fill them.\n",
    "- For `Rating`, we would fill them with the mean of each `Category`, because the difference between *mean* and *median* is not significant.\n",
    "- For `Size`, we would fill them with the median of each `Category`, because the *mean* is very different from the *median*."
   ]
  },
  {
   "cell_type": "code",
   "execution_count": 18,
   "id": "ad3baafe",
   "metadata": {},
   "outputs": [],
   "source": [
    "apps_df['Rating'] = apps_df.groupby('Category')['Rating'].transform(lambda x: x.fillna(x.mean()))\n",
    "apps_df['Size'] = apps_df.groupby('Category')['Size'].transform(lambda x: x.fillna(x.median()))"
   ]
  },
  {
   "cell_type": "code",
   "execution_count": 19,
   "id": "66c127ac",
   "metadata": {},
   "outputs": [
    {
     "data": {
      "text/html": [
       "<div>\n",
       "<style scoped>\n",
       "    .dataframe tbody tr th:only-of-type {\n",
       "        vertical-align: middle;\n",
       "    }\n",
       "\n",
       "    .dataframe tbody tr th {\n",
       "        vertical-align: top;\n",
       "    }\n",
       "\n",
       "    .dataframe thead th {\n",
       "        text-align: right;\n",
       "    }\n",
       "</style>\n",
       "<table border=\"1\" class=\"dataframe\">\n",
       "  <thead>\n",
       "    <tr style=\"text-align: right;\">\n",
       "      <th></th>\n",
       "      <th>Rating</th>\n",
       "      <th>Reviews</th>\n",
       "      <th>Size</th>\n",
       "      <th>Installs</th>\n",
       "      <th>Price</th>\n",
       "    </tr>\n",
       "  </thead>\n",
       "  <tbody>\n",
       "    <tr>\n",
       "      <th>missing_ratio</th>\n",
       "      <td>0.00000</td>\n",
       "      <td>0.000000e+00</td>\n",
       "      <td>0.000000</td>\n",
       "      <td>0.000000e+00</td>\n",
       "      <td>0.000000</td>\n",
       "    </tr>\n",
       "    <tr>\n",
       "      <th>mean</th>\n",
       "      <td>4.17223</td>\n",
       "      <td>2.165926e+05</td>\n",
       "      <td>19.439002</td>\n",
       "      <td>7.777507e+06</td>\n",
       "      <td>1.099299</td>\n",
       "    </tr>\n",
       "    <tr>\n",
       "      <th>min</th>\n",
       "      <td>1.00000</td>\n",
       "      <td>0.000000e+00</td>\n",
       "      <td>0.008301</td>\n",
       "      <td>0.000000e+00</td>\n",
       "      <td>0.000000</td>\n",
       "    </tr>\n",
       "    <tr>\n",
       "      <th>lower_quartile</th>\n",
       "      <td>4.00000</td>\n",
       "      <td>2.500000e+01</td>\n",
       "      <td>5.000000</td>\n",
       "      <td>1.000000e+03</td>\n",
       "      <td>0.000000</td>\n",
       "    </tr>\n",
       "    <tr>\n",
       "      <th>median</th>\n",
       "      <td>4.20000</td>\n",
       "      <td>9.670000e+02</td>\n",
       "      <td>11.000000</td>\n",
       "      <td>1.000000e+05</td>\n",
       "      <td>0.000000</td>\n",
       "    </tr>\n",
       "    <tr>\n",
       "      <th>upper_quartile</th>\n",
       "      <td>4.50000</td>\n",
       "      <td>2.940100e+04</td>\n",
       "      <td>26.000000</td>\n",
       "      <td>1.000000e+06</td>\n",
       "      <td>0.000000</td>\n",
       "    </tr>\n",
       "    <tr>\n",
       "      <th>max</th>\n",
       "      <td>5.00000</td>\n",
       "      <td>7.815831e+07</td>\n",
       "      <td>100.000000</td>\n",
       "      <td>1.000000e+09</td>\n",
       "      <td>400.000000</td>\n",
       "    </tr>\n",
       "  </tbody>\n",
       "</table>\n",
       "</div>"
      ],
      "text/plain": [
       "                 Rating       Reviews        Size      Installs       Price\n",
       "missing_ratio   0.00000  0.000000e+00    0.000000  0.000000e+00    0.000000\n",
       "mean            4.17223  2.165926e+05   19.439002  7.777507e+06    1.099299\n",
       "min             1.00000  0.000000e+00    0.008301  0.000000e+00    0.000000\n",
       "lower_quartile  4.00000  2.500000e+01    5.000000  1.000000e+03    0.000000\n",
       "median          4.20000  9.670000e+02   11.000000  1.000000e+05    0.000000\n",
       "upper_quartile  4.50000  2.940100e+04   26.000000  1.000000e+06    0.000000\n",
       "max             5.00000  7.815831e+07  100.000000  1.000000e+09  400.000000"
      ]
     },
     "execution_count": 19,
     "metadata": {},
     "output_type": "execute_result"
    }
   ],
   "source": [
    "# double check on numeric columns\n",
    "num_col_info_df = apps_df.select_dtypes(include='number')\n",
    "num_col_info_df = num_col_info_df.agg([missing_ratio, 'mean', 'min', lower_quartile, median, upper_quartile, 'max'])\n",
    "num_col_info_df"
   ]
  },
  {
   "cell_type": "markdown",
   "id": "b8c7d939",
   "metadata": {},
   "source": [
    "#### 1.7. With each categorical column, how are values distributed?"
   ]
  },
  {
   "cell_type": "code",
   "execution_count": 20,
   "id": "e3010342",
   "metadata": {},
   "outputs": [
    {
     "data": {
      "text/html": [
       "<div>\n",
       "<style scoped>\n",
       "    .dataframe tbody tr th:only-of-type {\n",
       "        vertical-align: middle;\n",
       "    }\n",
       "\n",
       "    .dataframe tbody tr th {\n",
       "        vertical-align: top;\n",
       "    }\n",
       "\n",
       "    .dataframe thead th {\n",
       "        text-align: right;\n",
       "    }\n",
       "</style>\n",
       "<table border=\"1\" class=\"dataframe\">\n",
       "  <thead>\n",
       "    <tr style=\"text-align: right;\">\n",
       "      <th></th>\n",
       "      <th>App</th>\n",
       "      <th>Category</th>\n",
       "      <th>Type</th>\n",
       "      <th>Content Rating</th>\n",
       "      <th>Genres</th>\n",
       "      <th>Current Ver</th>\n",
       "      <th>Android Ver</th>\n",
       "    </tr>\n",
       "  </thead>\n",
       "  <tbody>\n",
       "    <tr>\n",
       "      <th>missing_ratio</th>\n",
       "      <td>0.0</td>\n",
       "      <td>0.0</td>\n",
       "      <td>0.0</td>\n",
       "      <td>0.0</td>\n",
       "      <td>0.0</td>\n",
       "      <td>0.1</td>\n",
       "      <td>0.0</td>\n",
       "    </tr>\n",
       "    <tr>\n",
       "      <th>num_values</th>\n",
       "      <td>9659</td>\n",
       "      <td>33</td>\n",
       "      <td>2</td>\n",
       "      <td>6</td>\n",
       "      <td>53</td>\n",
       "      <td>2768</td>\n",
       "      <td>33</td>\n",
       "    </tr>\n",
       "    <tr>\n",
       "      <th>value_counts</th>\n",
       "      <td>{'Photo Editor &amp; Candy Camera &amp; Grid &amp; ScrapBo...</td>\n",
       "      <td>{'FAMILY': 1832, 'GAME': 959, 'TOOLS': 827, 'B...</td>\n",
       "      <td>{'Free': 8902, 'Paid': 756}</td>\n",
       "      <td>{'Everyone': 7903, 'Teen': 1036, 'Mature 17+':...</td>\n",
       "      <td>{'Tools': 827, 'Education': 678, 'Entertainmen...</td>\n",
       "      <td>{'Varies with device': 1055, '1': 831, '1.1': ...</td>\n",
       "      <td>{'4.1 and up': 2202, '4.0.3 and up': 1395, '4....</td>\n",
       "    </tr>\n",
       "  </tbody>\n",
       "</table>\n",
       "</div>"
      ],
      "text/plain": [
       "                                                             App  \\\n",
       "missing_ratio                                                0.0   \n",
       "num_values                                                  9659   \n",
       "value_counts   {'Photo Editor & Candy Camera & Grid & ScrapBo...   \n",
       "\n",
       "                                                        Category  \\\n",
       "missing_ratio                                                0.0   \n",
       "num_values                                                    33   \n",
       "value_counts   {'FAMILY': 1832, 'GAME': 959, 'TOOLS': 827, 'B...   \n",
       "\n",
       "                                      Type  \\\n",
       "missing_ratio                          0.0   \n",
       "num_values                               2   \n",
       "value_counts   {'Free': 8902, 'Paid': 756}   \n",
       "\n",
       "                                                  Content Rating  \\\n",
       "missing_ratio                                                0.0   \n",
       "num_values                                                     6   \n",
       "value_counts   {'Everyone': 7903, 'Teen': 1036, 'Mature 17+':...   \n",
       "\n",
       "                                                          Genres  \\\n",
       "missing_ratio                                                0.0   \n",
       "num_values                                                    53   \n",
       "value_counts   {'Tools': 827, 'Education': 678, 'Entertainmen...   \n",
       "\n",
       "                                                     Current Ver  \\\n",
       "missing_ratio                                                0.1   \n",
       "num_values                                                  2768   \n",
       "value_counts   {'Varies with device': 1055, '1': 831, '1.1': ...   \n",
       "\n",
       "                                                     Android Ver  \n",
       "missing_ratio                                                0.0  \n",
       "num_values                                                    33  \n",
       "value_counts   {'4.1 and up': 2202, '4.0.3 and up': 1395, '4....  "
      ]
     },
     "execution_count": 20,
     "metadata": {},
     "output_type": "execute_result"
    }
   ],
   "source": [
    "cat_col_df = apps_df.select_dtypes(include='object')\n",
    "\n",
    "def missing_ratio(s):\n",
    "    return (s.isna().mean() * 100).round(1)\n",
    "\n",
    "def num_values(s):\n",
    "    s = s.str.split(';')\n",
    "    s = s.explode()\n",
    "    return len(s.value_counts())\n",
    "\n",
    "def value_counts(s):\n",
    "    s = s.str.split(';')\n",
    "    s = s.explode()\n",
    "    return (s.value_counts()).to_dict()\n",
    "\n",
    "cat_col_info_df = cat_col_df.agg([missing_ratio, num_values, value_counts])\n",
    "cat_col_info_df"
   ]
  },
  {
   "cell_type": "markdown",
   "id": "89ec828c",
   "metadata": {},
   "source": [
    "The `Type` column has 2 values *Free* and *Paid*; and the type of an app is dependent on its price. Are there any apps do not follow this constraint?"
   ]
  },
  {
   "cell_type": "code",
   "execution_count": 21,
   "id": "90c4a8e6",
   "metadata": {},
   "outputs": [
    {
     "name": "stdout",
     "output_type": "stream",
     "text": [
      "There are 0 abnormal apps when comparing their 'Type' with 'Price'.\n"
     ]
    }
   ],
   "source": [
    "count_strange = apps_df[(apps_df['Type'] == 'Paid') & (apps_df['Price'] == 0)]['App'].count()\n",
    "count_strange += apps_df[(apps_df['Type'] == 'Free') & (apps_df['Price'] != 0)]['App'].count()\n",
    "\n",
    "print(f\"There are {count_strange} abnormal apps when comparing their 'Type' with 'Price'.\")"
   ]
  },
  {
   "cell_type": "markdown",
   "id": "58b76d4e",
   "metadata": {},
   "source": [
    "In other columns, the data do not seem abnormal. However, we notice that: \n",
    "- `Category` and `Genres` seem to have the same meaning, so we would drop `Geners` column.\n",
    "- `Current Ver` has 0.1% missing ratio. However, we can not really exploit so much information from this column, so we gonna drop it instead of filling them with some value."
   ]
  },
  {
   "cell_type": "code",
   "execution_count": 22,
   "id": "ac4701c3",
   "metadata": {},
   "outputs": [],
   "source": [
    "apps_df.drop(columns=['Genres', 'Current Ver'], inplace=True)"
   ]
  },
  {
   "cell_type": "code",
   "execution_count": 23,
   "id": "42f1d7ca",
   "metadata": {},
   "outputs": [
    {
     "data": {
      "text/html": [
       "<div>\n",
       "<style scoped>\n",
       "    .dataframe tbody tr th:only-of-type {\n",
       "        vertical-align: middle;\n",
       "    }\n",
       "\n",
       "    .dataframe tbody tr th {\n",
       "        vertical-align: top;\n",
       "    }\n",
       "\n",
       "    .dataframe thead th {\n",
       "        text-align: right;\n",
       "    }\n",
       "</style>\n",
       "<table border=\"1\" class=\"dataframe\">\n",
       "  <thead>\n",
       "    <tr style=\"text-align: right;\">\n",
       "      <th></th>\n",
       "      <th>App</th>\n",
       "      <th>Category</th>\n",
       "      <th>Type</th>\n",
       "      <th>Content Rating</th>\n",
       "      <th>Android Ver</th>\n",
       "    </tr>\n",
       "  </thead>\n",
       "  <tbody>\n",
       "    <tr>\n",
       "      <th>missing_ratio</th>\n",
       "      <td>0.0</td>\n",
       "      <td>0.0</td>\n",
       "      <td>0.0</td>\n",
       "      <td>0.0</td>\n",
       "      <td>0.0</td>\n",
       "    </tr>\n",
       "    <tr>\n",
       "      <th>num_values</th>\n",
       "      <td>9659</td>\n",
       "      <td>33</td>\n",
       "      <td>2</td>\n",
       "      <td>6</td>\n",
       "      <td>33</td>\n",
       "    </tr>\n",
       "    <tr>\n",
       "      <th>value_counts</th>\n",
       "      <td>{'Photo Editor &amp; Candy Camera &amp; Grid &amp; ScrapBo...</td>\n",
       "      <td>{'FAMILY': 1832, 'GAME': 959, 'TOOLS': 827, 'B...</td>\n",
       "      <td>{'Free': 8902, 'Paid': 756}</td>\n",
       "      <td>{'Everyone': 7903, 'Teen': 1036, 'Mature 17+':...</td>\n",
       "      <td>{'4.1 and up': 2202, '4.0.3 and up': 1395, '4....</td>\n",
       "    </tr>\n",
       "  </tbody>\n",
       "</table>\n",
       "</div>"
      ],
      "text/plain": [
       "                                                             App  \\\n",
       "missing_ratio                                                0.0   \n",
       "num_values                                                  9659   \n",
       "value_counts   {'Photo Editor & Candy Camera & Grid & ScrapBo...   \n",
       "\n",
       "                                                        Category  \\\n",
       "missing_ratio                                                0.0   \n",
       "num_values                                                    33   \n",
       "value_counts   {'FAMILY': 1832, 'GAME': 959, 'TOOLS': 827, 'B...   \n",
       "\n",
       "                                      Type  \\\n",
       "missing_ratio                          0.0   \n",
       "num_values                               2   \n",
       "value_counts   {'Free': 8902, 'Paid': 756}   \n",
       "\n",
       "                                                  Content Rating  \\\n",
       "missing_ratio                                                0.0   \n",
       "num_values                                                     6   \n",
       "value_counts   {'Everyone': 7903, 'Teen': 1036, 'Mature 17+':...   \n",
       "\n",
       "                                                     Android Ver  \n",
       "missing_ratio                                                0.0  \n",
       "num_values                                                    33  \n",
       "value_counts   {'4.1 and up': 2202, '4.0.3 and up': 1395, '4....  "
      ]
     },
     "execution_count": 23,
     "metadata": {},
     "output_type": "execute_result"
    }
   ],
   "source": [
    "# double check on category columns\n",
    "cat_col_info_df = apps_df.select_dtypes(include='object')\n",
    "cat_col_info_df = cat_col_info_df.agg([missing_ratio, num_values, value_counts])\n",
    "cat_col_info_df"
   ]
  },
  {
   "cell_type": "markdown",
   "id": "53c22d1a",
   "metadata": {},
   "source": [
    "We have another data type `datetime` which we have not checked yet."
   ]
  },
  {
   "cell_type": "code",
   "execution_count": 24,
   "id": "54014a0d",
   "metadata": {},
   "outputs": [
    {
     "name": "stdout",
     "output_type": "stream",
     "text": [
      "Missing ratio of 'Last Updated': 0.0\n"
     ]
    }
   ],
   "source": [
    "datetime_ratio = apps_df['Last Updated'].isna().mean() * 100\n",
    "print(f\"Missing ratio of 'Last Updated': {datetime_ratio}\")"
   ]
  },
  {
   "cell_type": "markdown",
   "id": "2cd2f78f",
   "metadata": {},
   "source": [
    "Now, we have finished pre-processing the data!!!"
   ]
  },
  {
   "cell_type": "markdown",
   "id": "6d9228f5",
   "metadata": {},
   "source": [
    "#### 1.8. Save the cleaned data"
   ]
  },
  {
   "cell_type": "code",
   "execution_count": 25,
   "id": "67c18d88",
   "metadata": {},
   "outputs": [
    {
     "name": "stdout",
     "output_type": "stream",
     "text": [
      "Total number of features: 11\n"
     ]
    },
    {
     "data": {
      "text/html": [
       "<div>\n",
       "<style scoped>\n",
       "    .dataframe tbody tr th:only-of-type {\n",
       "        vertical-align: middle;\n",
       "    }\n",
       "\n",
       "    .dataframe tbody tr th {\n",
       "        vertical-align: top;\n",
       "    }\n",
       "\n",
       "    .dataframe thead th {\n",
       "        text-align: right;\n",
       "    }\n",
       "</style>\n",
       "<table border=\"1\" class=\"dataframe\">\n",
       "  <thead>\n",
       "    <tr style=\"text-align: right;\">\n",
       "      <th></th>\n",
       "      <th>App</th>\n",
       "      <th>Category</th>\n",
       "      <th>Rating</th>\n",
       "      <th>Reviews</th>\n",
       "      <th>Size</th>\n",
       "      <th>Installs</th>\n",
       "      <th>Type</th>\n",
       "      <th>Price</th>\n",
       "      <th>Content Rating</th>\n",
       "      <th>Last Updated</th>\n",
       "      <th>Android Ver</th>\n",
       "    </tr>\n",
       "  </thead>\n",
       "  <tbody>\n",
       "    <tr>\n",
       "      <th>0</th>\n",
       "      <td>Photo Editor &amp; Candy Camera &amp; Grid &amp; ScrapBook</td>\n",
       "      <td>ART_AND_DESIGN</td>\n",
       "      <td>4.1</td>\n",
       "      <td>159</td>\n",
       "      <td>19.0</td>\n",
       "      <td>10000</td>\n",
       "      <td>Free</td>\n",
       "      <td>0.0</td>\n",
       "      <td>Everyone</td>\n",
       "      <td>2018-01-07</td>\n",
       "      <td>4.0.3 and up</td>\n",
       "    </tr>\n",
       "    <tr>\n",
       "      <th>1</th>\n",
       "      <td>Coloring book moana</td>\n",
       "      <td>ART_AND_DESIGN</td>\n",
       "      <td>3.9</td>\n",
       "      <td>967</td>\n",
       "      <td>14.0</td>\n",
       "      <td>500000</td>\n",
       "      <td>Free</td>\n",
       "      <td>0.0</td>\n",
       "      <td>Everyone</td>\n",
       "      <td>2018-01-15</td>\n",
       "      <td>4.0.3 and up</td>\n",
       "    </tr>\n",
       "    <tr>\n",
       "      <th>2</th>\n",
       "      <td>U Launcher Lite – FREE Live Cool Themes, Hide ...</td>\n",
       "      <td>ART_AND_DESIGN</td>\n",
       "      <td>4.7</td>\n",
       "      <td>87510</td>\n",
       "      <td>8.7</td>\n",
       "      <td>5000000</td>\n",
       "      <td>Free</td>\n",
       "      <td>0.0</td>\n",
       "      <td>Everyone</td>\n",
       "      <td>2018-08-01</td>\n",
       "      <td>4.0.3 and up</td>\n",
       "    </tr>\n",
       "    <tr>\n",
       "      <th>3</th>\n",
       "      <td>Sketch - Draw &amp; Paint</td>\n",
       "      <td>ART_AND_DESIGN</td>\n",
       "      <td>4.5</td>\n",
       "      <td>215644</td>\n",
       "      <td>25.0</td>\n",
       "      <td>50000000</td>\n",
       "      <td>Free</td>\n",
       "      <td>0.0</td>\n",
       "      <td>Teen</td>\n",
       "      <td>2018-06-08</td>\n",
       "      <td>4.2 and up</td>\n",
       "    </tr>\n",
       "    <tr>\n",
       "      <th>4</th>\n",
       "      <td>Pixel Draw - Number Art Coloring Book</td>\n",
       "      <td>ART_AND_DESIGN</td>\n",
       "      <td>4.3</td>\n",
       "      <td>967</td>\n",
       "      <td>2.8</td>\n",
       "      <td>100000</td>\n",
       "      <td>Free</td>\n",
       "      <td>0.0</td>\n",
       "      <td>Everyone</td>\n",
       "      <td>2018-06-20</td>\n",
       "      <td>4.4 and up</td>\n",
       "    </tr>\n",
       "  </tbody>\n",
       "</table>\n",
       "</div>"
      ],
      "text/plain": [
       "                                                 App        Category  Rating  \\\n",
       "0     Photo Editor & Candy Camera & Grid & ScrapBook  ART_AND_DESIGN     4.1   \n",
       "1                                Coloring book moana  ART_AND_DESIGN     3.9   \n",
       "2  U Launcher Lite – FREE Live Cool Themes, Hide ...  ART_AND_DESIGN     4.7   \n",
       "3                              Sketch - Draw & Paint  ART_AND_DESIGN     4.5   \n",
       "4              Pixel Draw - Number Art Coloring Book  ART_AND_DESIGN     4.3   \n",
       "\n",
       "   Reviews  Size  Installs  Type  Price Content Rating Last Updated  \\\n",
       "0      159  19.0     10000  Free    0.0       Everyone   2018-01-07   \n",
       "1      967  14.0    500000  Free    0.0       Everyone   2018-01-15   \n",
       "2    87510   8.7   5000000  Free    0.0       Everyone   2018-08-01   \n",
       "3   215644  25.0  50000000  Free    0.0           Teen   2018-06-08   \n",
       "4      967   2.8    100000  Free    0.0       Everyone   2018-06-20   \n",
       "\n",
       "    Android Ver  \n",
       "0  4.0.3 and up  \n",
       "1  4.0.3 and up  \n",
       "2  4.0.3 and up  \n",
       "3    4.2 and up  \n",
       "4    4.4 and up  "
      ]
     },
     "execution_count": 25,
     "metadata": {},
     "output_type": "execute_result"
    }
   ],
   "source": [
    "print(f\"Total number of features: {apps_df.shape[1]}\")\n",
    "apps_df.head()"
   ]
  },
  {
   "cell_type": "code",
   "execution_count": 26,
   "id": "7fa549c1",
   "metadata": {},
   "outputs": [],
   "source": [
    "apps_df.to_csv(\"../Data/Processed/cleaned_apps.csv\", index=False)"
   ]
  },
  {
   "cell_type": "markdown",
   "id": "aed55b5e",
   "metadata": {},
   "source": [
    "### 2. Exploring on `reviews_df`"
   ]
  },
  {
   "cell_type": "markdown",
   "id": "036853eb",
   "metadata": {},
   "source": [
    "#### 2.1. Viewing the first five rows"
   ]
  },
  {
   "cell_type": "code",
   "execution_count": 27,
   "id": "1f34c887",
   "metadata": {},
   "outputs": [
    {
     "data": {
      "text/html": [
       "<div>\n",
       "<style scoped>\n",
       "    .dataframe tbody tr th:only-of-type {\n",
       "        vertical-align: middle;\n",
       "    }\n",
       "\n",
       "    .dataframe tbody tr th {\n",
       "        vertical-align: top;\n",
       "    }\n",
       "\n",
       "    .dataframe thead th {\n",
       "        text-align: right;\n",
       "    }\n",
       "</style>\n",
       "<table border=\"1\" class=\"dataframe\">\n",
       "  <thead>\n",
       "    <tr style=\"text-align: right;\">\n",
       "      <th></th>\n",
       "      <th>App</th>\n",
       "      <th>Translated_Review</th>\n",
       "      <th>Sentiment</th>\n",
       "      <th>Sentiment_Polarity</th>\n",
       "      <th>Sentiment_Subjectivity</th>\n",
       "    </tr>\n",
       "  </thead>\n",
       "  <tbody>\n",
       "    <tr>\n",
       "      <th>0</th>\n",
       "      <td>10 Best Foods for You</td>\n",
       "      <td>I like eat delicious food. That's I'm cooking ...</td>\n",
       "      <td>Positive</td>\n",
       "      <td>1.00</td>\n",
       "      <td>0.533333</td>\n",
       "    </tr>\n",
       "    <tr>\n",
       "      <th>1</th>\n",
       "      <td>10 Best Foods for You</td>\n",
       "      <td>This help eating healthy exercise regular basis</td>\n",
       "      <td>Positive</td>\n",
       "      <td>0.25</td>\n",
       "      <td>0.288462</td>\n",
       "    </tr>\n",
       "    <tr>\n",
       "      <th>2</th>\n",
       "      <td>10 Best Foods for You</td>\n",
       "      <td>NaN</td>\n",
       "      <td>NaN</td>\n",
       "      <td>NaN</td>\n",
       "      <td>NaN</td>\n",
       "    </tr>\n",
       "    <tr>\n",
       "      <th>3</th>\n",
       "      <td>10 Best Foods for You</td>\n",
       "      <td>Works great especially going grocery store</td>\n",
       "      <td>Positive</td>\n",
       "      <td>0.40</td>\n",
       "      <td>0.875000</td>\n",
       "    </tr>\n",
       "    <tr>\n",
       "      <th>4</th>\n",
       "      <td>10 Best Foods for You</td>\n",
       "      <td>Best idea us</td>\n",
       "      <td>Positive</td>\n",
       "      <td>1.00</td>\n",
       "      <td>0.300000</td>\n",
       "    </tr>\n",
       "  </tbody>\n",
       "</table>\n",
       "</div>"
      ],
      "text/plain": [
       "                     App                                  Translated_Review  \\\n",
       "0  10 Best Foods for You  I like eat delicious food. That's I'm cooking ...   \n",
       "1  10 Best Foods for You    This help eating healthy exercise regular basis   \n",
       "2  10 Best Foods for You                                                NaN   \n",
       "3  10 Best Foods for You         Works great especially going grocery store   \n",
       "4  10 Best Foods for You                                       Best idea us   \n",
       "\n",
       "  Sentiment  Sentiment_Polarity  Sentiment_Subjectivity  \n",
       "0  Positive                1.00                0.533333  \n",
       "1  Positive                0.25                0.288462  \n",
       "2       NaN                 NaN                     NaN  \n",
       "3  Positive                0.40                0.875000  \n",
       "4  Positive                1.00                0.300000  "
      ]
     },
     "execution_count": 27,
     "metadata": {},
     "output_type": "execute_result"
    }
   ],
   "source": [
    "reviews_df.head(5)"
   ]
  },
  {
   "cell_type": "markdown",
   "id": "569e41f0",
   "metadata": {},
   "source": [
    "#### 2.2. How many rows and how many columns?"
   ]
  },
  {
   "cell_type": "code",
   "execution_count": 28,
   "id": "f6680fc8",
   "metadata": {},
   "outputs": [
    {
     "name": "stdout",
     "output_type": "stream",
     "text": [
      "Number of rows: 64295\n",
      "Number of columns: 5\n"
     ]
    }
   ],
   "source": [
    "reviews_shape = reviews_df.shape\n",
    "print(f'Number of rows: {reviews_shape[0]}')\n",
    "print(f'Number of columns: {reviews_shape[1]}')"
   ]
  },
  {
   "cell_type": "markdown",
   "id": "ab622eac",
   "metadata": {},
   "source": [
    "Each row contains the details of a review and its user's sentiment of an app on Google Play Store."
   ]
  },
  {
   "cell_type": "markdown",
   "id": "b714939a",
   "metadata": {},
   "source": [
    "#### 2.3. What is the meaning of each column?"
   ]
  },
  {
   "cell_type": "code",
   "execution_count": 29,
   "id": "6e23873e",
   "metadata": {},
   "outputs": [
    {
     "name": "stdout",
     "output_type": "stream",
     "text": [
      "The Names of the Columns are as follows: ['App', 'Translated_Review', 'Sentiment', 'Sentiment_Polarity', 'Sentiment_Subjectivity']\n"
     ]
    }
   ],
   "source": [
    "# Viewing the Column names\n",
    "print(f\"The Names of the Columns are as follows: {reviews_df.columns.to_list()}\")"
   ]
  },
  {
   "cell_type": "markdown",
   "id": "61cb69b6",
   "metadata": {},
   "source": [
    "**Reviews dataset columns descriptions:**\n",
    "\n",
    "This file contains all the details of reviews of apps on Google Play. There are 5 features that describe a given review.\n",
    "\n",
    "\n",
    "| Column | Meaning |\n",
    "| --- | --- |\n",
    "| **App** | Name of the app |\n",
    "| **Translated_Review** | Review of user translated to English |\n",
    "| **Sentiment** | Attitude of the review |\n",
    "| **Sentiment_Polarity** | Sentiment polarity score |\n",
    "| **Sentiment_Subjectivity** | Sentiment subjectivity score |"
   ]
  },
  {
   "cell_type": "markdown",
   "id": "432b9eed",
   "metadata": {},
   "source": [
    "In this dataset, we can only use the `Sentiment` of each each review to evaluate user attitudes when using the apps due to our limited knowledge in Natural Language Processing. Therefore, we're going to drop `Translated_Review`, `Sentiment_Polarity`, `Sentiment_Subjectivity` and only use the `App` name and its `Sentiment` of each user."
   ]
  },
  {
   "cell_type": "code",
   "execution_count": 30,
   "id": "32f6e6ae",
   "metadata": {},
   "outputs": [],
   "source": [
    "reviews_df = reviews_df[['App', 'Sentiment']]"
   ]
  },
  {
   "cell_type": "markdown",
   "id": "fb60439f",
   "metadata": {},
   "source": [
    "#### 2.4. What is the current data type of each column? Are there columns having inappropriate data types?"
   ]
  },
  {
   "cell_type": "code",
   "execution_count": 31,
   "id": "c59af6d8",
   "metadata": {},
   "outputs": [
    {
     "data": {
      "text/plain": [
       "App          object\n",
       "Sentiment    object\n",
       "dtype: object"
      ]
     },
     "execution_count": 31,
     "metadata": {},
     "output_type": "execute_result"
    }
   ],
   "source": [
    "reviews_df.dtypes"
   ]
  },
  {
   "cell_type": "markdown",
   "id": "567128e2",
   "metadata": {},
   "source": [
    "The data type seem normal."
   ]
  },
  {
   "cell_type": "markdown",
   "id": "768d9957",
   "metadata": {},
   "source": [
    "#### 2.5. How are values distributed?"
   ]
  },
  {
   "cell_type": "code",
   "execution_count": 32,
   "id": "8c595e28",
   "metadata": {},
   "outputs": [
    {
     "data": {
      "text/html": [
       "<div>\n",
       "<style scoped>\n",
       "    .dataframe tbody tr th:only-of-type {\n",
       "        vertical-align: middle;\n",
       "    }\n",
       "\n",
       "    .dataframe tbody tr th {\n",
       "        vertical-align: top;\n",
       "    }\n",
       "\n",
       "    .dataframe thead th {\n",
       "        text-align: right;\n",
       "    }\n",
       "</style>\n",
       "<table border=\"1\" class=\"dataframe\">\n",
       "  <thead>\n",
       "    <tr style=\"text-align: right;\">\n",
       "      <th></th>\n",
       "      <th>App</th>\n",
       "      <th>Sentiment</th>\n",
       "    </tr>\n",
       "  </thead>\n",
       "  <tbody>\n",
       "    <tr>\n",
       "      <th>missing_ratio</th>\n",
       "      <td>0.0</td>\n",
       "      <td>41.8</td>\n",
       "    </tr>\n",
       "    <tr>\n",
       "      <th>num_values</th>\n",
       "      <td>1074</td>\n",
       "      <td>3</td>\n",
       "    </tr>\n",
       "    <tr>\n",
       "      <th>value_counts</th>\n",
       "      <td>{'Angry Birds Classic': 320, 'CBS Sports App -...</td>\n",
       "      <td>{'Positive': 23998, 'Negative': 8271, 'Neutral...</td>\n",
       "    </tr>\n",
       "  </tbody>\n",
       "</table>\n",
       "</div>"
      ],
      "text/plain": [
       "                                                             App  \\\n",
       "missing_ratio                                                0.0   \n",
       "num_values                                                  1074   \n",
       "value_counts   {'Angry Birds Classic': 320, 'CBS Sports App -...   \n",
       "\n",
       "                                                       Sentiment  \n",
       "missing_ratio                                               41.8  \n",
       "num_values                                                     3  \n",
       "value_counts   {'Positive': 23998, 'Negative': 8271, 'Neutral...  "
      ]
     },
     "execution_count": 32,
     "metadata": {},
     "output_type": "execute_result"
    }
   ],
   "source": [
    "def missing_ratio(s):\n",
    "    return (s.isna().mean() * 100).round(1)\n",
    "\n",
    "def num_values(s):\n",
    "    s = s.str.split(';')\n",
    "    s = s.explode()\n",
    "    return len(s.value_counts())\n",
    "\n",
    "def value_counts(s):\n",
    "    s = s.str.split(';')\n",
    "    s = s.explode()\n",
    "    return (s.value_counts()).to_dict()\n",
    "\n",
    "cat_col_info_df = reviews_df.agg([missing_ratio, num_values, value_counts])\n",
    "cat_col_info_df"
   ]
  },
  {
   "cell_type": "markdown",
   "id": "fb5ca08e",
   "metadata": {},
   "source": [
    "Because `none` value in `Sentiment` give us no information, so we would drop all of the `none` values."
   ]
  },
  {
   "cell_type": "code",
   "execution_count": 33,
   "id": "088d683b",
   "metadata": {},
   "outputs": [],
   "source": [
    "reviews_df.dropna(inplace=True)"
   ]
  },
  {
   "cell_type": "code",
   "execution_count": 34,
   "id": "b70ef6c8",
   "metadata": {},
   "outputs": [
    {
     "data": {
      "text/html": [
       "<div>\n",
       "<style scoped>\n",
       "    .dataframe tbody tr th:only-of-type {\n",
       "        vertical-align: middle;\n",
       "    }\n",
       "\n",
       "    .dataframe tbody tr th {\n",
       "        vertical-align: top;\n",
       "    }\n",
       "\n",
       "    .dataframe thead th {\n",
       "        text-align: right;\n",
       "    }\n",
       "</style>\n",
       "<table border=\"1\" class=\"dataframe\">\n",
       "  <thead>\n",
       "    <tr style=\"text-align: right;\">\n",
       "      <th></th>\n",
       "      <th>App</th>\n",
       "      <th>Sentiment</th>\n",
       "    </tr>\n",
       "  </thead>\n",
       "  <tbody>\n",
       "    <tr>\n",
       "      <th>missing_ratio</th>\n",
       "      <td>0.0</td>\n",
       "      <td>0.0</td>\n",
       "    </tr>\n",
       "    <tr>\n",
       "      <th>num_values</th>\n",
       "      <td>865</td>\n",
       "      <td>3</td>\n",
       "    </tr>\n",
       "    <tr>\n",
       "      <th>value_counts</th>\n",
       "      <td>{'Bowmasters': 312, 'Helix Jump': 273, 'Angry ...</td>\n",
       "      <td>{'Positive': 23998, 'Negative': 8271, 'Neutral...</td>\n",
       "    </tr>\n",
       "  </tbody>\n",
       "</table>\n",
       "</div>"
      ],
      "text/plain": [
       "                                                             App  \\\n",
       "missing_ratio                                                0.0   \n",
       "num_values                                                   865   \n",
       "value_counts   {'Bowmasters': 312, 'Helix Jump': 273, 'Angry ...   \n",
       "\n",
       "                                                       Sentiment  \n",
       "missing_ratio                                                0.0  \n",
       "num_values                                                     3  \n",
       "value_counts   {'Positive': 23998, 'Negative': 8271, 'Neutral...  "
      ]
     },
     "execution_count": 34,
     "metadata": {},
     "output_type": "execute_result"
    }
   ],
   "source": [
    "# Double check on the dataframe\n",
    "cat_col_info_df = reviews_df.agg([missing_ratio, num_values, value_counts])\n",
    "cat_col_info_df"
   ]
  },
  {
   "cell_type": "code",
   "execution_count": 35,
   "id": "0231ddc4",
   "metadata": {},
   "outputs": [
    {
     "data": {
      "text/plain": [
       "[Text(0, 0, '8271'), Text(0, 0, '5163'), Text(0, 0, '23998')]"
      ]
     },
     "execution_count": 35,
     "metadata": {},
     "output_type": "execute_result"
    },
    {
     "data": {
      "image/png": "[encoded data removed]",
      "text/plain": [
       "<Figure size 600x500 with 1 Axes>"
      ]
     },
     "metadata": {},
     "output_type": "display_data"
    }
   ],
   "source": [
    "# visualize the distribution of 'Sentiment'\n",
    "sentiment_df = reviews_df.groupby('Sentiment').count()\n",
    "\n",
    "fig, ax = plt.subplots(figsize=(6, 5), dpi=100)\n",
    "ax.bar(sentiment_df.index, sentiment_df['App'], color=['m', 'c', 'y'], width=0.5)\n",
    "ax.set_xlabel('Sentiment')\n",
    "ax.set_ylabel('Number of Reviews')\n",
    "ax.set_title('Distribution of Sentiment')\n",
    "ax.bar_label(ax.containers[0])"
   ]
  },
  {
   "cell_type": "markdown",
   "id": "441f101d",
   "metadata": {},
   "source": [
    "#### 2.6. Save the cleaned data"
   ]
  },
  {
   "cell_type": "code",
   "execution_count": 36,
   "id": "509b0555",
   "metadata": {},
   "outputs": [
    {
     "name": "stdout",
     "output_type": "stream",
     "text": [
      "The shape of data: (37432, 2)\n"
     ]
    },
    {
     "data": {
      "text/html": [
       "<div>\n",
       "<style scoped>\n",
       "    .dataframe tbody tr th:only-of-type {\n",
       "        vertical-align: middle;\n",
       "    }\n",
       "\n",
       "    .dataframe tbody tr th {\n",
       "        vertical-align: top;\n",
       "    }\n",
       "\n",
       "    .dataframe thead th {\n",
       "        text-align: right;\n",
       "    }\n",
       "</style>\n",
       "<table border=\"1\" class=\"dataframe\">\n",
       "  <thead>\n",
       "    <tr style=\"text-align: right;\">\n",
       "      <th></th>\n",
       "      <th>App</th>\n",
       "      <th>Sentiment</th>\n",
       "    </tr>\n",
       "  </thead>\n",
       "  <tbody>\n",
       "    <tr>\n",
       "      <th>47410</th>\n",
       "      <td>Floor Plan Creator</td>\n",
       "      <td>Positive</td>\n",
       "    </tr>\n",
       "    <tr>\n",
       "      <th>35897</th>\n",
       "      <td>Dosecast - Medication Reminder</td>\n",
       "      <td>Positive</td>\n",
       "    </tr>\n",
       "    <tr>\n",
       "      <th>26493</th>\n",
       "      <td>Chrome Dev</td>\n",
       "      <td>Positive</td>\n",
       "    </tr>\n",
       "    <tr>\n",
       "      <th>37044</th>\n",
       "      <td>DreamWorks Friends</td>\n",
       "      <td>Negative</td>\n",
       "    </tr>\n",
       "    <tr>\n",
       "      <th>21806</th>\n",
       "      <td>Calorie Counter - Macros</td>\n",
       "      <td>Positive</td>\n",
       "    </tr>\n",
       "  </tbody>\n",
       "</table>\n",
       "</div>"
      ],
      "text/plain": [
       "                                  App Sentiment\n",
       "47410              Floor Plan Creator  Positive\n",
       "35897  Dosecast - Medication Reminder  Positive\n",
       "26493                      Chrome Dev  Positive\n",
       "37044              DreamWorks Friends  Negative\n",
       "21806        Calorie Counter - Macros  Positive"
      ]
     },
     "execution_count": 36,
     "metadata": {},
     "output_type": "execute_result"
    }
   ],
   "source": [
    "print(f'The shape of data: {reviews_df.shape}')\n",
    "reviews_df.sample(5)"
   ]
  },
  {
   "cell_type": "code",
   "execution_count": 37,
   "id": "04816707",
   "metadata": {},
   "outputs": [],
   "source": [
    "reviews_df.to_csv(\"../Data/Processed/cleaned_reviews.csv\", index=False)"
   ]
  }
 ],
 "metadata": {
  "kernelspec": {
   "display_name": "Python 3 (ipykernel)",
   "language": "python",
   "name": "python3"
  },
  "language_info": {
   "codemirror_mode": {
    "name": "ipython",
    "version": 3
   },
   "file_extension": ".py",
   "mimetype": "text/x-python",
   "name": "python",
   "nbconvert_exporter": "python",
   "pygments_lexer": "ipython3",
   "version": "3.12.0"
  }
 },
 "nbformat": 4,
 "nbformat_minor": 5
}
